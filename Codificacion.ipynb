{
 "cells": [
  {
   "cell_type": "markdown",
   "metadata": {},
   "source": [
    "## **Codificación de variables categóricas**"
   ]
  },
  {
   "cell_type": "code",
   "execution_count": 1084,
   "metadata": {},
   "outputs": [],
   "source": [
    "import pandas as pd"
   ]
  },
  {
   "cell_type": "code",
   "execution_count": 1085,
   "metadata": {},
   "outputs": [
    {
     "name": "stdout",
     "output_type": "stream",
     "text": [
      "<class 'pandas.core.frame.DataFrame'>\n",
      "RangeIndex: 28787 entries, 0 to 28786\n",
      "Data columns (total 24 columns):\n",
      " #   Column                               Non-Null Count  Dtype  \n",
      "---  ------                               --------------  -----  \n",
      " 0   DESCRIPCION                          28787 non-null  object \n",
      " 1   Mes                                  28787 non-null  object \n",
      " 2   Paciente Entidad Responsable Pago    28787 non-null  object \n",
      " 3   Paciente Modalidad Contrato          28787 non-null  object \n",
      " 4   Paciente Regimen Afiliacion          28787 non-null  object \n",
      " 5   Minutos (Camara - F3)                28787 non-null  float64\n",
      " 6   Dx Principal Tipo                    28787 non-null  object \n",
      " 7   Dx Principal Cod                     28787 non-null  object \n",
      " 8   Dx Principal Cod.1                   28787 non-null  object \n",
      " 9   Dx Relacionado1 Cod                  28787 non-null  object \n",
      " 10  Dx Relacionado2 Cod                  28787 non-null  object \n",
      " 11  Dx Relacionado3 Cod                  28787 non-null  object \n",
      " 12  Paciente Edad                        28787 non-null  float64\n",
      " 13  Paciente Sexo                        28787 non-null  object \n",
      " 14  Clasificacion 1 Triaje \n",
      "Enfermeria   28787 non-null  object \n",
      " 15  Causa Externa  (Riesgo)              28787 non-null  object \n",
      " 16  Modalidad Atencion                   28787 non-null  object \n",
      " 17  Ubicación Triaje                     28787 non-null  object \n",
      " 18  Hora Diligenciamiento F3             28787 non-null  float64\n",
      " 19  Minutos                              28787 non-null  float64\n",
      " 20  Urgencia Xpress F3                   28787 non-null  bool   \n",
      " 21  Grupo Poblacional                    28787 non-null  object \n",
      " 22  Pertenencia Etnica                   28787 non-null  object \n",
      " 23  ALTO COSTO                           28787 non-null  object \n",
      "dtypes: bool(1), float64(4), object(19)\n",
      "memory usage: 5.1+ MB\n"
     ]
    }
   ],
   "source": [
    "# Cargar desde CSV\n",
    "data = pd.read_csv('dataframe24.csv')\n",
    "data.info()"
   ]
  },
  {
   "cell_type": "markdown",
   "metadata": {},
   "source": [
    "## Descripción\n",
    "\n",
    "Codificación binaria"
   ]
  },
  {
   "cell_type": "code",
   "execution_count": 1086,
   "metadata": {},
   "outputs": [
    {
     "name": "stdout",
     "output_type": "stream",
     "text": [
      "URGENCIAS ADULTO         21426\n",
      "URGENCIAS PEDIATRICAS     7361\n",
      "Name: DESCRIPCION, dtype: int64\n"
     ]
    }
   ],
   "source": [
    "frec = data['DESCRIPCION'].value_counts()\n",
    "print(frec)"
   ]
  },
  {
   "cell_type": "code",
   "execution_count": 1087,
   "metadata": {},
   "outputs": [
    {
     "name": "stdout",
     "output_type": "stream",
     "text": [
      "1    21426\n",
      "0     7361\n",
      "Name: DESCRIPCION, dtype: int64\n"
     ]
    }
   ],
   "source": [
    "data['DESCRIPCION'] = data['DESCRIPCION'].map({'URGENCIAS PEDIATRICAS':0 , 'URGENCIAS ADULTO':1})\n",
    "\n",
    "print(data['DESCRIPCION'].value_counts())"
   ]
  },
  {
   "cell_type": "markdown",
   "metadata": {},
   "source": [
    "## Mes"
   ]
  },
  {
   "cell_type": "markdown",
   "metadata": {},
   "source": [
    "Codificación por frecuencia, dado que puede ser **útil cuando capturar la información sobre la prevalencia de hospitalizados según el mes, dado que hay variaciones considerables**"
   ]
  },
  {
   "cell_type": "code",
   "execution_count": 1088,
   "metadata": {},
   "outputs": [
    {
     "name": "stdout",
     "output_type": "stream",
     "text": [
      "   DESCRIPCION    Mes Paciente Entidad Responsable Pago  \\\n",
      "0            1  2.634                                48   \n",
      "1            1  2.634                                 5   \n",
      "2            1  2.634                                65   \n",
      "3            1  2.634                                48   \n",
      "4            1  2.634                             Otros   \n",
      "\n",
      "  Paciente Modalidad Contrato Paciente Regimen Afiliacion  \\\n",
      "0                      EVENTO                  SUBSIDIADO   \n",
      "1                         PGP                  SUBSIDIADO   \n",
      "2                      EVENTO                    ESPECIAL   \n",
      "3                      EVENTO                CONTRIBUTIVO   \n",
      "4                      EVENTO                CONTRIBUTIVO   \n",
      "\n",
      "   Minutos (Camara - F3) Dx Principal Tipo  Dx Principal Cod  \\\n",
      "0              26.633333           REPETIDO             I10X   \n",
      "1              65.133333              NUEVO             W540   \n",
      "2              82.050000              NUEVO             G510   \n",
      "3               0.000000              NUEVO             R224   \n",
      "4             116.850000              NUEVO             K922   \n",
      "\n",
      "  Dx Principal Cod.1 Dx Relacionado1 Cod  ...  \\\n",
      "0            I00-I99                NA00  ...   \n",
      "1            V01-Y98                NA00  ...   \n",
      "2            G00-G99                NA00  ...   \n",
      "3            R00-R99                NA00  ...   \n",
      "4            K00-K93                NA00  ...   \n",
      "\n",
      "  Clasificacion 1 Triaje \\nEnfermeria  Causa Externa  (Riesgo)  \\\n",
      "0                             TRIAJE 2      ENFERMEDAD GENERAL   \n",
      "1                             TRIAJE 3      ENFERMEDAD GENERAL   \n",
      "2                             TRIAJE 3      ENFERMEDAD GENERAL   \n",
      "3                            NO APLICA      ENFERMEDAD GENERAL   \n",
      "4                             TRIAJE 3      ENFERMEDAD GENERAL   \n",
      "\n",
      "   Modalidad Atencion Ubicación Triaje Hora Diligenciamiento F3 Minutos  \\\n",
      "0           URGENCIAS           XPRESS                 0.862616    15.0   \n",
      "1           URGENCIAS           TRAUMA                 0.638356    56.0   \n",
      "2           URGENCIAS    CONSULTORIO 1                 0.821887    79.0   \n",
      "3            REMITIDO           XPRESS                 0.712373     0.0   \n",
      "4           URGENCIAS    CONSULTORIO 1                 0.503935   108.0   \n",
      "\n",
      "  Urgencia Xpress F3  Grupo Poblacional  Pertenencia Etnica      ALTO COSTO  \n",
      "0               True  POBLACIÓN GENERAL        OTRAS ETNIAS    HIPERTENSION  \n",
      "1              False  POBLACIÓN GENERAL        OTRAS ETNIAS  ZNO ALTO COSTO  \n",
      "2              False  POBLACIÓN GENERAL        OTRAS ETNIAS  ZNO ALTO COSTO  \n",
      "3               True  POBLACIÓN GENERAL        OTRAS ETNIAS  ZNO ALTO COSTO  \n",
      "4              False  POBLACIÓN GENERAL        OTRAS ETNIAS  ZNO ALTO COSTO  \n",
      "\n",
      "[5 rows x 24 columns]\n"
     ]
    }
   ],
   "source": [
    "month_counts = data['Mes'].value_counts()\n",
    "\n",
    "# Aplicar la codificación de frecuencia\n",
    "data['Mes'] = data['Mes'].map(month_counts/1000)\n",
    "\n",
    "# Imprimir el dataframe codificado\n",
    "print(data.head())"
   ]
  },
  {
   "cell_type": "markdown",
   "metadata": {},
   "source": [
    "## Paciente entidad responsable pago"
   ]
  },
  {
   "cell_type": "code",
   "execution_count": 1089,
   "metadata": {},
   "outputs": [
    {
     "name": "stdout",
     "output_type": "stream",
     "text": [
      "48       10607\n",
      "65        3458\n",
      "4         3045\n",
      "5         2535\n",
      "47        2199\n",
      "34        1259\n",
      "68         830\n",
      "Otros      690\n",
      "53         602\n",
      "18         460\n",
      "23         408\n",
      "2          398\n",
      "11         375\n",
      "63         364\n",
      "39         326\n",
      "56         242\n",
      "15         222\n",
      "60         163\n",
      "46         140\n",
      "62         139\n",
      "57         118\n",
      "8          107\n",
      "61         100\n",
      "Name: Paciente Entidad Responsable Pago, dtype: int64\n",
      "int32\n"
     ]
    }
   ],
   "source": [
    "frec = data['Paciente Entidad Responsable Pago'].value_counts()\n",
    "print (frec)\n",
    "# Reemplazar 'Otros' por 1\n",
    "data['Paciente Entidad Responsable Pago'].replace('Otros', 1, inplace=True)\n",
    "\n",
    "# Convertir la columna a tipo de datos numérico\n",
    "data['Paciente Entidad Responsable Pago'] = data['Paciente Entidad Responsable Pago'].astype(int)\n",
    "\n",
    "# Verificar el tipo de datos de la columna después de la conversión\n",
    "print(data['Paciente Entidad Responsable Pago'].dtype)"
   ]
  },
  {
   "cell_type": "code",
   "execution_count": 1090,
   "metadata": {},
   "outputs": [
    {
     "name": "stdout",
     "output_type": "stream",
     "text": [
      "48    10607\n",
      "65     3458\n",
      "4      3045\n",
      "5      2535\n",
      "47     2199\n",
      "34     1259\n",
      "68      830\n",
      "1       690\n",
      "53      602\n",
      "18      460\n",
      "23      408\n",
      "2       398\n",
      "11      375\n",
      "63      364\n",
      "39      326\n",
      "56      242\n",
      "15      222\n",
      "60      163\n",
      "46      140\n",
      "62      139\n",
      "57      118\n",
      "8       107\n",
      "61      100\n",
      "Name: Paciente Entidad Responsable Pago, dtype: int64\n"
     ]
    }
   ],
   "source": [
    "print(data['Paciente Entidad Responsable Pago'].value_counts())"
   ]
  },
  {
   "cell_type": "markdown",
   "metadata": {},
   "source": [
    "## Paciente Modalidad Contrato "
   ]
  },
  {
   "cell_type": "code",
   "execution_count": 1091,
   "metadata": {},
   "outputs": [
    {
     "name": "stdout",
     "output_type": "stream",
     "text": [
      "EVENTO    24023\n",
      "PGP        4734\n",
      "CAPITA       30\n",
      "Name: Paciente Modalidad Contrato, dtype: int64\n"
     ]
    }
   ],
   "source": [
    "frec = data['Paciente Modalidad Contrato'].value_counts()\n",
    "print (frec)"
   ]
  },
  {
   "cell_type": "code",
   "execution_count": 1092,
   "metadata": {},
   "outputs": [
    {
     "name": "stdout",
     "output_type": "stream",
     "text": [
      "   DESCRIPCION    Mes  Paciente Entidad Responsable Pago  \\\n",
      "0            1  2.634                                 48   \n",
      "1            1  2.634                                  5   \n",
      "2            1  2.634                                 65   \n",
      "3            1  2.634                                 48   \n",
      "4            1  2.634                                  1   \n",
      "\n",
      "  Paciente Regimen Afiliacion  Minutos (Camara - F3) Dx Principal Tipo   \\\n",
      "0                  SUBSIDIADO              26.633333           REPETIDO   \n",
      "1                  SUBSIDIADO              65.133333              NUEVO   \n",
      "2                    ESPECIAL              82.050000              NUEVO   \n",
      "3                CONTRIBUTIVO               0.000000              NUEVO   \n",
      "4                CONTRIBUTIVO             116.850000              NUEVO   \n",
      "\n",
      "  Dx Principal Cod Dx Principal Cod.1 Dx Relacionado1 Cod  \\\n",
      "0             I10X            I00-I99                NA00   \n",
      "1             W540            V01-Y98                NA00   \n",
      "2             G510            G00-G99                NA00   \n",
      "3             R224            R00-R99                NA00   \n",
      "4             K922            K00-K93                NA00   \n",
      "\n",
      "  Dx Relacionado2 Cod   ... Ubicación Triaje  Hora Diligenciamiento F3  \\\n",
      "0                 NA00  ...           XPRESS                  0.862616   \n",
      "1                 NA00  ...           TRAUMA                  0.638356   \n",
      "2                 NA00  ...    CONSULTORIO 1                  0.821887   \n",
      "3                 NA00  ...           XPRESS                  0.712373   \n",
      "4                 NA00  ...    CONSULTORIO 1                  0.503935   \n",
      "\n",
      "  Minutos Urgencia Xpress F3  Grupo Poblacional Pertenencia Etnica  \\\n",
      "0    15.0               True  POBLACIÓN GENERAL       OTRAS ETNIAS   \n",
      "1    56.0              False  POBLACIÓN GENERAL       OTRAS ETNIAS   \n",
      "2    79.0              False  POBLACIÓN GENERAL       OTRAS ETNIAS   \n",
      "3     0.0               True  POBLACIÓN GENERAL       OTRAS ETNIAS   \n",
      "4   108.0              False  POBLACIÓN GENERAL       OTRAS ETNIAS   \n",
      "\n",
      "       ALTO COSTO  Paciente Modalidad Contrato_CAPITA  \\\n",
      "0    HIPERTENSION                                   0   \n",
      "1  ZNO ALTO COSTO                                   0   \n",
      "2  ZNO ALTO COSTO                                   0   \n",
      "3  ZNO ALTO COSTO                                   0   \n",
      "4  ZNO ALTO COSTO                                   0   \n",
      "\n",
      "   Paciente Modalidad Contrato_EVENTO  Paciente Modalidad Contrato_PGP  \n",
      "0                                   1                                0  \n",
      "1                                   0                                1  \n",
      "2                                   1                                0  \n",
      "3                                   1                                0  \n",
      "4                                   1                                0  \n",
      "\n",
      "[5 rows x 26 columns]\n"
     ]
    }
   ],
   "source": [
    "data = pd.get_dummies(data, columns=['Paciente Modalidad Contrato'])\n",
    "print(data.head())"
   ]
  },
  {
   "cell_type": "markdown",
   "metadata": {},
   "source": [
    "## Paciente Regimen Afiliacion "
   ]
  },
  {
   "cell_type": "code",
   "execution_count": 1093,
   "metadata": {},
   "outputs": [
    {
     "name": "stdout",
     "output_type": "stream",
     "text": [
      "CONTRIBUTIVO    11911\n",
      "SUBSIDIADO       9232\n",
      "ESPECIAL         4978\n",
      "NO ASEGURADO     2666\n",
      "Name: Paciente Regimen Afiliacion, dtype: int64\n"
     ]
    }
   ],
   "source": [
    "frec = data['Paciente Regimen Afiliacion'].value_counts()\n",
    "print (frec)"
   ]
  },
  {
   "cell_type": "code",
   "execution_count": 1094,
   "metadata": {},
   "outputs": [
    {
     "name": "stdout",
     "output_type": "stream",
     "text": [
      "   DESCRIPCION    Mes  Paciente Entidad Responsable Pago  \\\n",
      "0            1  2.634                                 48   \n",
      "1            1  2.634                                  5   \n",
      "2            1  2.634                                 65   \n",
      "3            1  2.634                                 48   \n",
      "4            1  2.634                                  1   \n",
      "\n",
      "   Minutos (Camara - F3) Dx Principal Tipo  Dx Principal Cod  \\\n",
      "0              26.633333           REPETIDO             I10X   \n",
      "1              65.133333              NUEVO             W540   \n",
      "2              82.050000              NUEVO             G510   \n",
      "3               0.000000              NUEVO             R224   \n",
      "4             116.850000              NUEVO             K922   \n",
      "\n",
      "  Dx Principal Cod.1 Dx Relacionado1 Cod Dx Relacionado2 Cod   \\\n",
      "0            I00-I99                NA00                 NA00   \n",
      "1            V01-Y98                NA00                 NA00   \n",
      "2            G00-G99                NA00                 NA00   \n",
      "3            R00-R99                NA00                 NA00   \n",
      "4            K00-K93                NA00                 NA00   \n",
      "\n",
      "  Dx Relacionado3 Cod  ...  Grupo Poblacional Pertenencia Etnica  \\\n",
      "0                NA00  ...  POBLACIÓN GENERAL       OTRAS ETNIAS   \n",
      "1                NA00  ...  POBLACIÓN GENERAL       OTRAS ETNIAS   \n",
      "2                NA00  ...  POBLACIÓN GENERAL       OTRAS ETNIAS   \n",
      "3                NA00  ...  POBLACIÓN GENERAL       OTRAS ETNIAS   \n",
      "4                NA00  ...  POBLACIÓN GENERAL       OTRAS ETNIAS   \n",
      "\n",
      "       ALTO COSTO Paciente Modalidad Contrato_CAPITA  \\\n",
      "0    HIPERTENSION                                  0   \n",
      "1  ZNO ALTO COSTO                                  0   \n",
      "2  ZNO ALTO COSTO                                  0   \n",
      "3  ZNO ALTO COSTO                                  0   \n",
      "4  ZNO ALTO COSTO                                  0   \n",
      "\n",
      "  Paciente Modalidad Contrato_EVENTO Paciente Modalidad Contrato_PGP  \\\n",
      "0                                  1                               0   \n",
      "1                                  0                               1   \n",
      "2                                  1                               0   \n",
      "3                                  1                               0   \n",
      "4                                  1                               0   \n",
      "\n",
      "   Paciente Regimen Afiliacion_CONTRIBUTIVO  \\\n",
      "0                                         0   \n",
      "1                                         0   \n",
      "2                                         0   \n",
      "3                                         1   \n",
      "4                                         1   \n",
      "\n",
      "   Paciente Regimen Afiliacion_ESPECIAL  \\\n",
      "0                                     0   \n",
      "1                                     0   \n",
      "2                                     1   \n",
      "3                                     0   \n",
      "4                                     0   \n",
      "\n",
      "   Paciente Regimen Afiliacion_NO ASEGURADO  \\\n",
      "0                                         0   \n",
      "1                                         0   \n",
      "2                                         0   \n",
      "3                                         0   \n",
      "4                                         0   \n",
      "\n",
      "  Paciente Regimen Afiliacion_SUBSIDIADO  \n",
      "0                                      1  \n",
      "1                                      1  \n",
      "2                                      0  \n",
      "3                                      0  \n",
      "4                                      0  \n",
      "\n",
      "[5 rows x 29 columns]\n"
     ]
    }
   ],
   "source": [
    "data = pd.get_dummies(data, columns=['Paciente Regimen Afiliacion'])\n",
    "print(data.head())"
   ]
  },
  {
   "cell_type": "markdown",
   "metadata": {},
   "source": [
    "## Dx principal tipo\n",
    "\n",
    "Como solo se tienen dos categorías se usa codificación binaria."
   ]
  },
  {
   "cell_type": "code",
   "execution_count": 1095,
   "metadata": {},
   "outputs": [
    {
     "name": "stdout",
     "output_type": "stream",
     "text": [
      "NUEVO       23861\n",
      "REPETIDO     4926\n",
      "Name: Dx Principal Tipo , dtype: int64\n"
     ]
    }
   ],
   "source": [
    "frec = data['Dx Principal Tipo '].value_counts()\n",
    "print (frec)"
   ]
  },
  {
   "cell_type": "code",
   "execution_count": 1096,
   "metadata": {},
   "outputs": [],
   "source": [
    "data['Dx Principal Tipo '] = data['Dx Principal Tipo '].map({'NUEVO':0 , 'REPETIDO':1})"
   ]
  },
  {
   "cell_type": "code",
   "execution_count": 1097,
   "metadata": {},
   "outputs": [
    {
     "name": "stdout",
     "output_type": "stream",
     "text": [
      "0    23861\n",
      "1     4926\n",
      "Name: Dx Principal Tipo , dtype: int64\n",
      "   DESCRIPCION    Mes  Paciente Entidad Responsable Pago  \\\n",
      "0            1  2.634                                 48   \n",
      "1            1  2.634                                  5   \n",
      "2            1  2.634                                 65   \n",
      "3            1  2.634                                 48   \n",
      "4            1  2.634                                  1   \n",
      "\n",
      "   Minutos (Camara - F3)  Dx Principal Tipo  Dx Principal Cod  \\\n",
      "0              26.633333                   1             I10X   \n",
      "1              65.133333                   0             W540   \n",
      "2              82.050000                   0             G510   \n",
      "3               0.000000                   0             R224   \n",
      "4             116.850000                   0             K922   \n",
      "\n",
      "  Dx Principal Cod.1 Dx Relacionado1 Cod Dx Relacionado2 Cod   \\\n",
      "0            I00-I99                NA00                 NA00   \n",
      "1            V01-Y98                NA00                 NA00   \n",
      "2            G00-G99                NA00                 NA00   \n",
      "3            R00-R99                NA00                 NA00   \n",
      "4            K00-K93                NA00                 NA00   \n",
      "\n",
      "  Dx Relacionado3 Cod  ...  Grupo Poblacional Pertenencia Etnica  \\\n",
      "0                NA00  ...  POBLACIÓN GENERAL       OTRAS ETNIAS   \n",
      "1                NA00  ...  POBLACIÓN GENERAL       OTRAS ETNIAS   \n",
      "2                NA00  ...  POBLACIÓN GENERAL       OTRAS ETNIAS   \n",
      "3                NA00  ...  POBLACIÓN GENERAL       OTRAS ETNIAS   \n",
      "4                NA00  ...  POBLACIÓN GENERAL       OTRAS ETNIAS   \n",
      "\n",
      "       ALTO COSTO Paciente Modalidad Contrato_CAPITA  \\\n",
      "0    HIPERTENSION                                  0   \n",
      "1  ZNO ALTO COSTO                                  0   \n",
      "2  ZNO ALTO COSTO                                  0   \n",
      "3  ZNO ALTO COSTO                                  0   \n",
      "4  ZNO ALTO COSTO                                  0   \n",
      "\n",
      "  Paciente Modalidad Contrato_EVENTO Paciente Modalidad Contrato_PGP  \\\n",
      "0                                  1                               0   \n",
      "1                                  0                               1   \n",
      "2                                  1                               0   \n",
      "3                                  1                               0   \n",
      "4                                  1                               0   \n",
      "\n",
      "   Paciente Regimen Afiliacion_CONTRIBUTIVO  \\\n",
      "0                                         0   \n",
      "1                                         0   \n",
      "2                                         0   \n",
      "3                                         1   \n",
      "4                                         1   \n",
      "\n",
      "   Paciente Regimen Afiliacion_ESPECIAL  \\\n",
      "0                                     0   \n",
      "1                                     0   \n",
      "2                                     1   \n",
      "3                                     0   \n",
      "4                                     0   \n",
      "\n",
      "   Paciente Regimen Afiliacion_NO ASEGURADO  \\\n",
      "0                                         0   \n",
      "1                                         0   \n",
      "2                                         0   \n",
      "3                                         0   \n",
      "4                                         0   \n",
      "\n",
      "  Paciente Regimen Afiliacion_SUBSIDIADO  \n",
      "0                                      1  \n",
      "1                                      1  \n",
      "2                                      0  \n",
      "3                                      0  \n",
      "4                                      0  \n",
      "\n",
      "[5 rows x 29 columns]\n"
     ]
    }
   ],
   "source": [
    "print(data['Dx Principal Tipo '].value_counts())\n",
    "print(data.head())"
   ]
  },
  {
   "cell_type": "markdown",
   "metadata": {},
   "source": [
    "## Paciente Sexo  \n",
    "\n",
    "Solo hay dos categorías y se realiza codificación binaria"
   ]
  },
  {
   "cell_type": "code",
   "execution_count": 1098,
   "metadata": {},
   "outputs": [
    {
     "name": "stdout",
     "output_type": "stream",
     "text": [
      "FEMENINO     14605\n",
      "MASCULINO    14182\n",
      "Name: Paciente Sexo, dtype: int64\n"
     ]
    }
   ],
   "source": [
    "frec = data['Paciente Sexo'].value_counts()\n",
    "print (frec)"
   ]
  },
  {
   "cell_type": "code",
   "execution_count": 1099,
   "metadata": {},
   "outputs": [
    {
     "name": "stdout",
     "output_type": "stream",
     "text": [
      "   DESCRIPCION    Mes  Paciente Entidad Responsable Pago  \\\n",
      "0            1  2.634                                 48   \n",
      "1            1  2.634                                  5   \n",
      "2            1  2.634                                 65   \n",
      "3            1  2.634                                 48   \n",
      "4            1  2.634                                  1   \n",
      "\n",
      "   Minutos (Camara - F3)  Dx Principal Tipo  Dx Principal Cod  \\\n",
      "0              26.633333                   1             I10X   \n",
      "1              65.133333                   0             W540   \n",
      "2              82.050000                   0             G510   \n",
      "3               0.000000                   0             R224   \n",
      "4             116.850000                   0             K922   \n",
      "\n",
      "  Dx Principal Cod.1 Dx Relacionado1 Cod Dx Relacionado2 Cod   \\\n",
      "0            I00-I99                NA00                 NA00   \n",
      "1            V01-Y98                NA00                 NA00   \n",
      "2            G00-G99                NA00                 NA00   \n",
      "3            R00-R99                NA00                 NA00   \n",
      "4            K00-K93                NA00                 NA00   \n",
      "\n",
      "  Dx Relacionado3 Cod  ...  Grupo Poblacional  Pertenencia Etnica  \\\n",
      "0                NA00  ...  POBLACIÓN GENERAL        OTRAS ETNIAS   \n",
      "1                NA00  ...  POBLACIÓN GENERAL        OTRAS ETNIAS   \n",
      "2                NA00  ...  POBLACIÓN GENERAL        OTRAS ETNIAS   \n",
      "3                NA00  ...  POBLACIÓN GENERAL        OTRAS ETNIAS   \n",
      "4                NA00  ...  POBLACIÓN GENERAL        OTRAS ETNIAS   \n",
      "\n",
      "       ALTO COSTO Paciente Modalidad Contrato_CAPITA  \\\n",
      "0    HIPERTENSION                                  0   \n",
      "1  ZNO ALTO COSTO                                  0   \n",
      "2  ZNO ALTO COSTO                                  0   \n",
      "3  ZNO ALTO COSTO                                  0   \n",
      "4  ZNO ALTO COSTO                                  0   \n",
      "\n",
      "  Paciente Modalidad Contrato_EVENTO Paciente Modalidad Contrato_PGP  \\\n",
      "0                                  1                               0   \n",
      "1                                  0                               1   \n",
      "2                                  1                               0   \n",
      "3                                  1                               0   \n",
      "4                                  1                               0   \n",
      "\n",
      "   Paciente Regimen Afiliacion_CONTRIBUTIVO  \\\n",
      "0                                         0   \n",
      "1                                         0   \n",
      "2                                         0   \n",
      "3                                         1   \n",
      "4                                         1   \n",
      "\n",
      "   Paciente Regimen Afiliacion_ESPECIAL  \\\n",
      "0                                     0   \n",
      "1                                     0   \n",
      "2                                     1   \n",
      "3                                     0   \n",
      "4                                     0   \n",
      "\n",
      "   Paciente Regimen Afiliacion_NO ASEGURADO  \\\n",
      "0                                         0   \n",
      "1                                         0   \n",
      "2                                         0   \n",
      "3                                         0   \n",
      "4                                         0   \n",
      "\n",
      "  Paciente Regimen Afiliacion_SUBSIDIADO  \n",
      "0                                      1  \n",
      "1                                      1  \n",
      "2                                      0  \n",
      "3                                      0  \n",
      "4                                      0  \n",
      "\n",
      "[5 rows x 29 columns]\n"
     ]
    }
   ],
   "source": [
    "data['Paciente Sexo'] = data['Paciente Sexo'].map({'MASCULINO':0 , 'FEMENINO':1})\n",
    "print (data.head())"
   ]
  },
  {
   "cell_type": "markdown",
   "metadata": {},
   "source": [
    "## Clasificacion 1 Triaje Enfermeria\n",
    "\n",
    "Se hace una codificación ordinal dado que hay una jerarquía conocida entre las categorías. Se le da mayor valor numérico al triaje de mayor urgencia y así disminuye."
   ]
  },
  {
   "cell_type": "code",
   "execution_count": 1100,
   "metadata": {},
   "outputs": [
    {
     "name": "stdout",
     "output_type": "stream",
     "text": [
      "TRIAJE 3     22134\n",
      "TRIAJE 2      4808\n",
      "NO APLICA     1460\n",
      "TRIAJE 4       207\n",
      "TRIAJE 1       134\n",
      "TRIAJE 5        44\n",
      "Name: Clasificacion 1 Triaje \\nEnfermeria , dtype: int64\n"
     ]
    }
   ],
   "source": [
    "frec = data['Clasificacion 1 Triaje \\nEnfermeria '].value_counts()\n",
    "print (frec)"
   ]
  },
  {
   "cell_type": "code",
   "execution_count": 1101,
   "metadata": {},
   "outputs": [
    {
     "name": "stdout",
     "output_type": "stream",
     "text": [
      "3    22134\n",
      "4     4808\n",
      "0     1460\n",
      "2      207\n",
      "5      134\n",
      "1       44\n",
      "Name: Clasificacion 1 Triaje \\nEnfermeria , dtype: int64\n",
      "   DESCRIPCION    Mes  Paciente Entidad Responsable Pago  \\\n",
      "0            1  2.634                                 48   \n",
      "1            1  2.634                                  5   \n",
      "2            1  2.634                                 65   \n",
      "3            1  2.634                                 48   \n",
      "4            1  2.634                                  1   \n",
      "\n",
      "   Minutos (Camara - F3)  Dx Principal Tipo  Dx Principal Cod  \\\n",
      "0              26.633333                   1             I10X   \n",
      "1              65.133333                   0             W540   \n",
      "2              82.050000                   0             G510   \n",
      "3               0.000000                   0             R224   \n",
      "4             116.850000                   0             K922   \n",
      "\n",
      "  Dx Principal Cod.1 Dx Relacionado1 Cod Dx Relacionado2 Cod   \\\n",
      "0            I00-I99                NA00                 NA00   \n",
      "1            V01-Y98                NA00                 NA00   \n",
      "2            G00-G99                NA00                 NA00   \n",
      "3            R00-R99                NA00                 NA00   \n",
      "4            K00-K93                NA00                 NA00   \n",
      "\n",
      "  Dx Relacionado3 Cod  ...  Grupo Poblacional  Pertenencia Etnica  \\\n",
      "0                NA00  ...  POBLACIÓN GENERAL        OTRAS ETNIAS   \n",
      "1                NA00  ...  POBLACIÓN GENERAL        OTRAS ETNIAS   \n",
      "2                NA00  ...  POBLACIÓN GENERAL        OTRAS ETNIAS   \n",
      "3                NA00  ...  POBLACIÓN GENERAL        OTRAS ETNIAS   \n",
      "4                NA00  ...  POBLACIÓN GENERAL        OTRAS ETNIAS   \n",
      "\n",
      "       ALTO COSTO Paciente Modalidad Contrato_CAPITA  \\\n",
      "0    HIPERTENSION                                  0   \n",
      "1  ZNO ALTO COSTO                                  0   \n",
      "2  ZNO ALTO COSTO                                  0   \n",
      "3  ZNO ALTO COSTO                                  0   \n",
      "4  ZNO ALTO COSTO                                  0   \n",
      "\n",
      "  Paciente Modalidad Contrato_EVENTO Paciente Modalidad Contrato_PGP  \\\n",
      "0                                  1                               0   \n",
      "1                                  0                               1   \n",
      "2                                  1                               0   \n",
      "3                                  1                               0   \n",
      "4                                  1                               0   \n",
      "\n",
      "   Paciente Regimen Afiliacion_CONTRIBUTIVO  \\\n",
      "0                                         0   \n",
      "1                                         0   \n",
      "2                                         0   \n",
      "3                                         1   \n",
      "4                                         1   \n",
      "\n",
      "   Paciente Regimen Afiliacion_ESPECIAL  \\\n",
      "0                                     0   \n",
      "1                                     0   \n",
      "2                                     1   \n",
      "3                                     0   \n",
      "4                                     0   \n",
      "\n",
      "   Paciente Regimen Afiliacion_NO ASEGURADO  \\\n",
      "0                                         0   \n",
      "1                                         0   \n",
      "2                                         0   \n",
      "3                                         0   \n",
      "4                                         0   \n",
      "\n",
      "  Paciente Regimen Afiliacion_SUBSIDIADO  \n",
      "0                                      1  \n",
      "1                                      1  \n",
      "2                                      0  \n",
      "3                                      0  \n",
      "4                                      0  \n",
      "\n",
      "[5 rows x 29 columns]\n"
     ]
    }
   ],
   "source": [
    "# Definir el orden de las categorías\n",
    "orden = ['NO APLICA', 'TRIAJE 5', 'TRIAJE 4', 'TRIAJE 3', 'TRIAJE 2', 'TRIAJE 1']\n",
    "\n",
    "# Aplicar la codificación ordinal\n",
    "data['Clasificacion 1 Triaje \\nEnfermeria '] = data['Clasificacion 1 Triaje \\nEnfermeria '].map({cat: idx for idx, cat in enumerate(orden)})\n",
    "\n",
    "# Imprimir el dataframe codificado\n",
    "print(data['Clasificacion 1 Triaje \\nEnfermeria '].value_counts())\n",
    "print(data.head())"
   ]
  },
  {
   "cell_type": "markdown",
   "metadata": {},
   "source": [
    "## Causa Externa  (Riesgo) "
   ]
  },
  {
   "cell_type": "code",
   "execution_count": 1102,
   "metadata": {},
   "outputs": [
    {
     "name": "stdout",
     "output_type": "stream",
     "text": [
      "ENFERMEDAD GENERAL        25595\n",
      "ACCIDENTE DE TRANSITO      2237\n",
      "ACCIDENTE DE TRABAJO        737\n",
      "OTRO TIPO DE ACCIDENTE      156\n",
      "LESIÓN POR AGRESIÓN          20\n",
      "OTRA                         16\n",
      "ENFERMEDAD PROFESIONAL       12\n",
      "SOSPECHA ABUSO SEXUAL         9\n",
      "ACCIDENTE RÁBICO              5\n",
      "Name: Causa Externa  (Riesgo), dtype: int64\n"
     ]
    }
   ],
   "source": [
    "frec = data['Causa Externa  (Riesgo)'].value_counts()\n",
    "print (frec)"
   ]
  },
  {
   "cell_type": "code",
   "execution_count": 1103,
   "metadata": {},
   "outputs": [
    {
     "name": "stdout",
     "output_type": "stream",
     "text": [
      "   DESCRIPCION    Mes  Paciente Entidad Responsable Pago  \\\n",
      "0            1  2.634                                 48   \n",
      "1            1  2.634                                  5   \n",
      "2            1  2.634                                 65   \n",
      "3            1  2.634                                 48   \n",
      "4            1  2.634                                  1   \n",
      "\n",
      "   Minutos (Camara - F3)  Dx Principal Tipo  Dx Principal Cod  \\\n",
      "0              26.633333                   1             I10X   \n",
      "1              65.133333                   0             W540   \n",
      "2              82.050000                   0             G510   \n",
      "3               0.000000                   0             R224   \n",
      "4             116.850000                   0             K922   \n",
      "\n",
      "  Dx Principal Cod.1 Dx Relacionado1 Cod Dx Relacionado2 Cod   \\\n",
      "0            I00-I99                NA00                 NA00   \n",
      "1            V01-Y98                NA00                 NA00   \n",
      "2            G00-G99                NA00                 NA00   \n",
      "3            R00-R99                NA00                 NA00   \n",
      "4            K00-K93                NA00                 NA00   \n",
      "\n",
      "  Dx Relacionado3 Cod  ...  Paciente Regimen Afiliacion_SUBSIDIADO  \\\n",
      "0                NA00  ...                                       1   \n",
      "1                NA00  ...                                       1   \n",
      "2                NA00  ...                                       0   \n",
      "3                NA00  ...                                       0   \n",
      "4                NA00  ...                                       0   \n",
      "\n",
      "   Causa Externa  (Riesgo)_ACCIDENTE DE TRABAJO  \\\n",
      "0                                             0   \n",
      "1                                             0   \n",
      "2                                             0   \n",
      "3                                             0   \n",
      "4                                             0   \n",
      "\n",
      "   Causa Externa  (Riesgo)_ACCIDENTE DE TRANSITO  \\\n",
      "0                                              0   \n",
      "1                                              0   \n",
      "2                                              0   \n",
      "3                                              0   \n",
      "4                                              0   \n",
      "\n",
      "  Causa Externa  (Riesgo)_ACCIDENTE RÁBICO  \\\n",
      "0                                        0   \n",
      "1                                        0   \n",
      "2                                        0   \n",
      "3                                        0   \n",
      "4                                        0   \n",
      "\n",
      "  Causa Externa  (Riesgo)_ENFERMEDAD GENERAL  \\\n",
      "0                                          1   \n",
      "1                                          1   \n",
      "2                                          1   \n",
      "3                                          1   \n",
      "4                                          1   \n",
      "\n",
      "   Causa Externa  (Riesgo)_ENFERMEDAD PROFESIONAL  \\\n",
      "0                                               0   \n",
      "1                                               0   \n",
      "2                                               0   \n",
      "3                                               0   \n",
      "4                                               0   \n",
      "\n",
      "   Causa Externa  (Riesgo)_LESIÓN POR AGRESIÓN  Causa Externa  (Riesgo)_OTRA  \\\n",
      "0                                            0                             0   \n",
      "1                                            0                             0   \n",
      "2                                            0                             0   \n",
      "3                                            0                             0   \n",
      "4                                            0                             0   \n",
      "\n",
      "  Causa Externa  (Riesgo)_OTRO TIPO DE ACCIDENTE  \\\n",
      "0                                              0   \n",
      "1                                              0   \n",
      "2                                              0   \n",
      "3                                              0   \n",
      "4                                              0   \n",
      "\n",
      "  Causa Externa  (Riesgo)_SOSPECHA ABUSO SEXUAL  \n",
      "0                                             0  \n",
      "1                                             0  \n",
      "2                                             0  \n",
      "3                                             0  \n",
      "4                                             0  \n",
      "\n",
      "[5 rows x 37 columns]\n"
     ]
    }
   ],
   "source": [
    "data = pd.get_dummies(data, columns=['Causa Externa  (Riesgo)'])\n",
    "print(data.head())"
   ]
  },
  {
   "cell_type": "markdown",
   "metadata": {},
   "source": [
    "## Modalidad Atencion"
   ]
  },
  {
   "cell_type": "code",
   "execution_count": 1104,
   "metadata": {},
   "outputs": [
    {
     "name": "stdout",
     "output_type": "stream",
     "text": [
      "URGENCIAS    26906\n",
      "REMITIDO      1881\n",
      "Name: Modalidad Atencion, dtype: int64\n"
     ]
    }
   ],
   "source": [
    "frec = data['Modalidad Atencion'].value_counts()\n",
    "print (frec)"
   ]
  },
  {
   "cell_type": "code",
   "execution_count": 1105,
   "metadata": {},
   "outputs": [
    {
     "name": "stdout",
     "output_type": "stream",
     "text": [
      "1    26906\n",
      "0     1881\n",
      "Name: Modalidad Atencion, dtype: int64\n",
      "   DESCRIPCION    Mes  Paciente Entidad Responsable Pago  \\\n",
      "0            1  2.634                                 48   \n",
      "1            1  2.634                                  5   \n",
      "2            1  2.634                                 65   \n",
      "3            1  2.634                                 48   \n",
      "4            1  2.634                                  1   \n",
      "\n",
      "   Minutos (Camara - F3)  Dx Principal Tipo  Dx Principal Cod  \\\n",
      "0              26.633333                   1             I10X   \n",
      "1              65.133333                   0             W540   \n",
      "2              82.050000                   0             G510   \n",
      "3               0.000000                   0             R224   \n",
      "4             116.850000                   0             K922   \n",
      "\n",
      "  Dx Principal Cod.1 Dx Relacionado1 Cod Dx Relacionado2 Cod   \\\n",
      "0            I00-I99                NA00                 NA00   \n",
      "1            V01-Y98                NA00                 NA00   \n",
      "2            G00-G99                NA00                 NA00   \n",
      "3            R00-R99                NA00                 NA00   \n",
      "4            K00-K93                NA00                 NA00   \n",
      "\n",
      "  Dx Relacionado3 Cod  ...  Paciente Regimen Afiliacion_SUBSIDIADO  \\\n",
      "0                NA00  ...                                       1   \n",
      "1                NA00  ...                                       1   \n",
      "2                NA00  ...                                       0   \n",
      "3                NA00  ...                                       0   \n",
      "4                NA00  ...                                       0   \n",
      "\n",
      "   Causa Externa  (Riesgo)_ACCIDENTE DE TRABAJO  \\\n",
      "0                                             0   \n",
      "1                                             0   \n",
      "2                                             0   \n",
      "3                                             0   \n",
      "4                                             0   \n",
      "\n",
      "   Causa Externa  (Riesgo)_ACCIDENTE DE TRANSITO  \\\n",
      "0                                              0   \n",
      "1                                              0   \n",
      "2                                              0   \n",
      "3                                              0   \n",
      "4                                              0   \n",
      "\n",
      "   Causa Externa  (Riesgo)_ACCIDENTE RÁBICO  \\\n",
      "0                                         0   \n",
      "1                                         0   \n",
      "2                                         0   \n",
      "3                                         0   \n",
      "4                                         0   \n",
      "\n",
      "  Causa Externa  (Riesgo)_ENFERMEDAD GENERAL  \\\n",
      "0                                          1   \n",
      "1                                          1   \n",
      "2                                          1   \n",
      "3                                          1   \n",
      "4                                          1   \n",
      "\n",
      "   Causa Externa  (Riesgo)_ENFERMEDAD PROFESIONAL  \\\n",
      "0                                               0   \n",
      "1                                               0   \n",
      "2                                               0   \n",
      "3                                               0   \n",
      "4                                               0   \n",
      "\n",
      "   Causa Externa  (Riesgo)_LESIÓN POR AGRESIÓN  Causa Externa  (Riesgo)_OTRA  \\\n",
      "0                                            0                             0   \n",
      "1                                            0                             0   \n",
      "2                                            0                             0   \n",
      "3                                            0                             0   \n",
      "4                                            0                             0   \n",
      "\n",
      "  Causa Externa  (Riesgo)_OTRO TIPO DE ACCIDENTE  \\\n",
      "0                                              0   \n",
      "1                                              0   \n",
      "2                                              0   \n",
      "3                                              0   \n",
      "4                                              0   \n",
      "\n",
      "  Causa Externa  (Riesgo)_SOSPECHA ABUSO SEXUAL  \n",
      "0                                             0  \n",
      "1                                             0  \n",
      "2                                             0  \n",
      "3                                             0  \n",
      "4                                             0  \n",
      "\n",
      "[5 rows x 37 columns]\n"
     ]
    }
   ],
   "source": [
    "data['Modalidad Atencion'] = data['Modalidad Atencion'].map({'URGENCIAS':1 , 'REMITIDO':0})\n",
    "print (data['Modalidad Atencion'].value_counts())\n",
    "print (data.head())"
   ]
  },
  {
   "cell_type": "markdown",
   "metadata": {},
   "source": [
    "## Ubicación Triaje"
   ]
  },
  {
   "cell_type": "code",
   "execution_count": 1106,
   "metadata": {},
   "outputs": [
    {
     "name": "stdout",
     "output_type": "stream",
     "text": [
      "CONSULTORIO 1               11786\n",
      "CONSULTORIO PEDIATRIA        7270\n",
      "TRAUMA                       5020\n",
      "XPRESS                       3098\n",
      "CONSULTORIO 4                 955\n",
      "UDEA                          558\n",
      "CONSULTORIO ONCOLOGIA          42\n",
      "SAI ADULTO                     19\n",
      "CONSULTORIO 1 MAGISTERIO       18\n",
      "CONSULTORIO 2                  10\n",
      "CONSULTORIO 3                   6\n",
      "TAMIZAJE COVID                  4\n",
      "XPress                          1\n",
      "Name: Ubicación Triaje, dtype: int64\n"
     ]
    }
   ],
   "source": [
    "frec = data['Ubicación Triaje'].value_counts()\n",
    "print (frec)"
   ]
  },
  {
   "cell_type": "code",
   "execution_count": 1107,
   "metadata": {},
   "outputs": [
    {
     "name": "stdout",
     "output_type": "stream",
     "text": [
      "   DESCRIPCION    Mes  Paciente Entidad Responsable Pago  \\\n",
      "0            1  2.634                                 48   \n",
      "1            1  2.634                                  5   \n",
      "2            1  2.634                                 65   \n",
      "3            1  2.634                                 48   \n",
      "4            1  2.634                                  1   \n",
      "\n",
      "   Minutos (Camara - F3)  Dx Principal Tipo  Dx Principal Cod  \\\n",
      "0              26.633333                   1             I10X   \n",
      "1              65.133333                   0             W540   \n",
      "2              82.050000                   0             G510   \n",
      "3               0.000000                   0             R224   \n",
      "4             116.850000                   0             K922   \n",
      "\n",
      "  Dx Principal Cod.1 Dx Relacionado1 Cod Dx Relacionado2 Cod   \\\n",
      "0            I00-I99                NA00                 NA00   \n",
      "1            V01-Y98                NA00                 NA00   \n",
      "2            G00-G99                NA00                 NA00   \n",
      "3            R00-R99                NA00                 NA00   \n",
      "4            K00-K93                NA00                 NA00   \n",
      "\n",
      "  Dx Relacionado3 Cod  ...  Ubicación Triaje_CONSULTORIO 3  \\\n",
      "0                NA00  ...                               0   \n",
      "1                NA00  ...                               0   \n",
      "2                NA00  ...                               0   \n",
      "3                NA00  ...                               0   \n",
      "4                NA00  ...                               0   \n",
      "\n",
      "   Ubicación Triaje_CONSULTORIO 4  Ubicación Triaje_CONSULTORIO ONCOLOGIA  \\\n",
      "0                               0                                       0   \n",
      "1                               0                                       0   \n",
      "2                               0                                       0   \n",
      "3                               0                                       0   \n",
      "4                               0                                       0   \n",
      "\n",
      "   Ubicación Triaje_CONSULTORIO PEDIATRIA  Ubicación Triaje_SAI ADULTO  \\\n",
      "0                                       0                            0   \n",
      "1                                       0                            0   \n",
      "2                                       0                            0   \n",
      "3                                       0                            0   \n",
      "4                                       0                            0   \n",
      "\n",
      "   Ubicación Triaje_TAMIZAJE COVID  Ubicación Triaje_TRAUMA  \\\n",
      "0                                0                        0   \n",
      "1                                0                        1   \n",
      "2                                0                        0   \n",
      "3                                0                        0   \n",
      "4                                0                        0   \n",
      "\n",
      "  Ubicación Triaje_UDEA Ubicación Triaje_XPRESS Ubicación Triaje_XPress  \n",
      "0                     0                       1                       0  \n",
      "1                     0                       0                       0  \n",
      "2                     0                       0                       0  \n",
      "3                     0                       1                       0  \n",
      "4                     0                       0                       0  \n",
      "\n",
      "[5 rows x 49 columns]\n"
     ]
    }
   ],
   "source": [
    "data = pd.get_dummies(data, columns=['Ubicación Triaje'])\n",
    "print(data.head())"
   ]
  },
  {
   "cell_type": "markdown",
   "metadata": {},
   "source": [
    "## Urgencia Xpress F3"
   ]
  },
  {
   "cell_type": "code",
   "execution_count": 1108,
   "metadata": {},
   "outputs": [
    {
     "name": "stdout",
     "output_type": "stream",
     "text": [
      "False    22947\n",
      "True      5840\n",
      "Name: Urgencia Xpress F3, dtype: int64 Index([False, True], dtype='bool')\n"
     ]
    }
   ],
   "source": [
    "frec = data['Urgencia Xpress F3'].value_counts()\n",
    "print (frec, frec.index)"
   ]
  },
  {
   "cell_type": "code",
   "execution_count": 1109,
   "metadata": {},
   "outputs": [
    {
     "name": "stdout",
     "output_type": "stream",
     "text": [
      "1    22947\n",
      "0     5840\n",
      "Name: Urgencia Xpress F3, dtype: int64\n",
      "   DESCRIPCION    Mes  Paciente Entidad Responsable Pago  \\\n",
      "0            1  2.634                                 48   \n",
      "1            1  2.634                                  5   \n",
      "2            1  2.634                                 65   \n",
      "3            1  2.634                                 48   \n",
      "4            1  2.634                                  1   \n",
      "\n",
      "   Minutos (Camara - F3)  Dx Principal Tipo  Dx Principal Cod  \\\n",
      "0              26.633333                   1             I10X   \n",
      "1              65.133333                   0             W540   \n",
      "2              82.050000                   0             G510   \n",
      "3               0.000000                   0             R224   \n",
      "4             116.850000                   0             K922   \n",
      "\n",
      "  Dx Principal Cod.1 Dx Relacionado1 Cod Dx Relacionado2 Cod   \\\n",
      "0            I00-I99                NA00                 NA00   \n",
      "1            V01-Y98                NA00                 NA00   \n",
      "2            G00-G99                NA00                 NA00   \n",
      "3            R00-R99                NA00                 NA00   \n",
      "4            K00-K93                NA00                 NA00   \n",
      "\n",
      "  Dx Relacionado3 Cod  ...  Ubicación Triaje_CONSULTORIO 3  \\\n",
      "0                NA00  ...                               0   \n",
      "1                NA00  ...                               0   \n",
      "2                NA00  ...                               0   \n",
      "3                NA00  ...                               0   \n",
      "4                NA00  ...                               0   \n",
      "\n",
      "   Ubicación Triaje_CONSULTORIO 4  Ubicación Triaje_CONSULTORIO ONCOLOGIA  \\\n",
      "0                               0                                       0   \n",
      "1                               0                                       0   \n",
      "2                               0                                       0   \n",
      "3                               0                                       0   \n",
      "4                               0                                       0   \n",
      "\n",
      "   Ubicación Triaje_CONSULTORIO PEDIATRIA  Ubicación Triaje_SAI ADULTO  \\\n",
      "0                                       0                            0   \n",
      "1                                       0                            0   \n",
      "2                                       0                            0   \n",
      "3                                       0                            0   \n",
      "4                                       0                            0   \n",
      "\n",
      "   Ubicación Triaje_TAMIZAJE COVID  Ubicación Triaje_TRAUMA  \\\n",
      "0                                0                        0   \n",
      "1                                0                        1   \n",
      "2                                0                        0   \n",
      "3                                0                        0   \n",
      "4                                0                        0   \n",
      "\n",
      "  Ubicación Triaje_UDEA Ubicación Triaje_XPRESS Ubicación Triaje_XPress  \n",
      "0                     0                       1                       0  \n",
      "1                     0                       0                       0  \n",
      "2                     0                       0                       0  \n",
      "3                     0                       1                       0  \n",
      "4                     0                       0                       0  \n",
      "\n",
      "[5 rows x 49 columns]\n"
     ]
    }
   ],
   "source": [
    "data['Urgencia Xpress F3'] = data['Urgencia Xpress F3'].map({False:1 , True:0})\n",
    "print (data['Urgencia Xpress F3'].value_counts())\n",
    "print (data.head())"
   ]
  },
  {
   "cell_type": "markdown",
   "metadata": {},
   "source": [
    "## Grupo Poblacional "
   ]
  },
  {
   "cell_type": "code",
   "execution_count": 1110,
   "metadata": {},
   "outputs": [
    {
     "name": "stdout",
     "output_type": "stream",
     "text": [
      "POBLACIÓN GENERAL              28486\n",
      "HABITANTE DE CALLE               205\n",
      "VICTIMA DE CONFLICTO ARMADO       96\n",
      "Name: Grupo Poblacional, dtype: int64 Index(['POBLACIÓN GENERAL', 'HABITANTE DE CALLE',\n",
      "       'VICTIMA DE CONFLICTO ARMADO'],\n",
      "      dtype='object')\n"
     ]
    }
   ],
   "source": [
    "frec = data['Grupo Poblacional'].value_counts()\n",
    "print (frec, frec.index)"
   ]
  },
  {
   "cell_type": "code",
   "execution_count": 1111,
   "metadata": {},
   "outputs": [
    {
     "name": "stdout",
     "output_type": "stream",
     "text": [
      "   DESCRIPCION    Mes  Paciente Entidad Responsable Pago  \\\n",
      "0            1  2.634                                 48   \n",
      "1            1  2.634                                  5   \n",
      "2            1  2.634                                 65   \n",
      "3            1  2.634                                 48   \n",
      "4            1  2.634                                  1   \n",
      "\n",
      "   Minutos (Camara - F3)  Dx Principal Tipo  Dx Principal Cod  \\\n",
      "0              26.633333                   1             I10X   \n",
      "1              65.133333                   0             W540   \n",
      "2              82.050000                   0             G510   \n",
      "3               0.000000                   0             R224   \n",
      "4             116.850000                   0             K922   \n",
      "\n",
      "  Dx Principal Cod.1 Dx Relacionado1 Cod Dx Relacionado2 Cod   \\\n",
      "0            I00-I99                NA00                 NA00   \n",
      "1            V01-Y98                NA00                 NA00   \n",
      "2            G00-G99                NA00                 NA00   \n",
      "3            R00-R99                NA00                 NA00   \n",
      "4            K00-K93                NA00                 NA00   \n",
      "\n",
      "  Dx Relacionado3 Cod  ...  Ubicación Triaje_CONSULTORIO PEDIATRIA  \\\n",
      "0                NA00  ...                                       0   \n",
      "1                NA00  ...                                       0   \n",
      "2                NA00  ...                                       0   \n",
      "3                NA00  ...                                       0   \n",
      "4                NA00  ...                                       0   \n",
      "\n",
      "   Ubicación Triaje_SAI ADULTO  Ubicación Triaje_TAMIZAJE COVID  \\\n",
      "0                            0                                0   \n",
      "1                            0                                0   \n",
      "2                            0                                0   \n",
      "3                            0                                0   \n",
      "4                            0                                0   \n",
      "\n",
      "   Ubicación Triaje_TRAUMA  Ubicación Triaje_UDEA  Ubicación Triaje_XPRESS  \\\n",
      "0                        0                      0                        1   \n",
      "1                        1                      0                        0   \n",
      "2                        0                      0                        0   \n",
      "3                        0                      0                        1   \n",
      "4                        0                      0                        0   \n",
      "\n",
      "   Ubicación Triaje_XPress Grupo Poblacional_HABITANTE DE CALLE  \\\n",
      "0                        0                                    0   \n",
      "1                        0                                    0   \n",
      "2                        0                                    0   \n",
      "3                        0                                    0   \n",
      "4                        0                                    0   \n",
      "\n",
      "  Grupo Poblacional_POBLACIÓN GENERAL  \\\n",
      "0                                   1   \n",
      "1                                   1   \n",
      "2                                   1   \n",
      "3                                   1   \n",
      "4                                   1   \n",
      "\n",
      "   Grupo Poblacional_VICTIMA DE CONFLICTO ARMADO  \n",
      "0                                              0  \n",
      "1                                              0  \n",
      "2                                              0  \n",
      "3                                              0  \n",
      "4                                              0  \n",
      "\n",
      "[5 rows x 51 columns]\n"
     ]
    }
   ],
   "source": [
    "data = pd.get_dummies(data, columns=['Grupo Poblacional'])\n",
    "print(data.head())"
   ]
  },
  {
   "cell_type": "markdown",
   "metadata": {},
   "source": [
    "## Pertenencia Etnica"
   ]
  },
  {
   "cell_type": "code",
   "execution_count": 1112,
   "metadata": {},
   "outputs": [
    {
     "name": "stdout",
     "output_type": "stream",
     "text": [
      "OTRAS ETNIAS                                                     26991\n",
      "NEGRO (A). MULATO (A). AFROCOLOMBIANO (A) O AFRO DESCENDIENTE     1506\n",
      "RROM (GITANO)                                                      163\n",
      "INDÍGENA                                                           106\n",
      "RAIZAL (ARCHIPIELAGO DE SAN ANDRES Y PROVIDENCIA)                   21\n",
      "Name: Pertenencia Etnica, dtype: int64\n"
     ]
    }
   ],
   "source": [
    "frec = data['Pertenencia Etnica'].value_counts()\n",
    "print (frec)"
   ]
  },
  {
   "cell_type": "code",
   "execution_count": 1113,
   "metadata": {},
   "outputs": [
    {
     "name": "stdout",
     "output_type": "stream",
     "text": [
      "   DESCRIPCION    Mes  Paciente Entidad Responsable Pago  \\\n",
      "0            1  2.634                                 48   \n",
      "1            1  2.634                                  5   \n",
      "2            1  2.634                                 65   \n",
      "3            1  2.634                                 48   \n",
      "4            1  2.634                                  1   \n",
      "\n",
      "   Minutos (Camara - F3)  Dx Principal Tipo  Dx Principal Cod  \\\n",
      "0              26.633333                   1             I10X   \n",
      "1              65.133333                   0             W540   \n",
      "2              82.050000                   0             G510   \n",
      "3               0.000000                   0             R224   \n",
      "4             116.850000                   0             K922   \n",
      "\n",
      "  Dx Principal Cod.1 Dx Relacionado1 Cod Dx Relacionado2 Cod   \\\n",
      "0            I00-I99                NA00                 NA00   \n",
      "1            V01-Y98                NA00                 NA00   \n",
      "2            G00-G99                NA00                 NA00   \n",
      "3            R00-R99                NA00                 NA00   \n",
      "4            K00-K93                NA00                 NA00   \n",
      "\n",
      "  Dx Relacionado3 Cod  ...  Ubicación Triaje_XPRESS  Ubicación Triaje_XPress  \\\n",
      "0                NA00  ...                        1                        0   \n",
      "1                NA00  ...                        0                        0   \n",
      "2                NA00  ...                        0                        0   \n",
      "3                NA00  ...                        1                        0   \n",
      "4                NA00  ...                        0                        0   \n",
      "\n",
      "   Grupo Poblacional_HABITANTE DE CALLE  Grupo Poblacional_POBLACIÓN GENERAL  \\\n",
      "0                                     0                                    1   \n",
      "1                                     0                                    1   \n",
      "2                                     0                                    1   \n",
      "3                                     0                                    1   \n",
      "4                                     0                                    1   \n",
      "\n",
      "   Grupo Poblacional_VICTIMA DE CONFLICTO ARMADO  Pertenencia Etnica_INDÍGENA  \\\n",
      "0                                              0                            0   \n",
      "1                                              0                            0   \n",
      "2                                              0                            0   \n",
      "3                                              0                            0   \n",
      "4                                              0                            0   \n",
      "\n",
      "   Pertenencia Etnica_NEGRO (A). MULATO (A). AFROCOLOMBIANO (A) O AFRO DESCENDIENTE  \\\n",
      "0                                                  0                                  \n",
      "1                                                  0                                  \n",
      "2                                                  0                                  \n",
      "3                                                  0                                  \n",
      "4                                                  0                                  \n",
      "\n",
      "  Pertenencia Etnica_OTRAS ETNIAS  \\\n",
      "0                               1   \n",
      "1                               1   \n",
      "2                               1   \n",
      "3                               1   \n",
      "4                               1   \n",
      "\n",
      "   Pertenencia Etnica_RAIZAL (ARCHIPIELAGO DE SAN ANDRES Y PROVIDENCIA)  \\\n",
      "0                                                  0                      \n",
      "1                                                  0                      \n",
      "2                                                  0                      \n",
      "3                                                  0                      \n",
      "4                                                  0                      \n",
      "\n",
      "   Pertenencia Etnica_RROM (GITANO)  \n",
      "0                                 0  \n",
      "1                                 0  \n",
      "2                                 0  \n",
      "3                                 0  \n",
      "4                                 0  \n",
      "\n",
      "[5 rows x 55 columns]\n"
     ]
    }
   ],
   "source": [
    "data = pd.get_dummies(data, columns=['Pertenencia Etnica'])\n",
    "print(data.head())"
   ]
  },
  {
   "cell_type": "markdown",
   "metadata": {},
   "source": [
    "## Alto costo"
   ]
  },
  {
   "cell_type": "code",
   "execution_count": 1114,
   "metadata": {},
   "outputs": [
    {
     "name": "stdout",
     "output_type": "stream",
     "text": [
      "ZNO ALTO COSTO         27685\n",
      "CANCER                   560\n",
      "DIABETES                 191\n",
      "HIPERTENSION             153\n",
      "RENAL                    128\n",
      "TUBERCULOSIS              37\n",
      "VIH                       20\n",
      "ARTRITIS REUMATOIDE        8\n",
      "GESTANTES                  3\n",
      "HEMOFILIA                  1\n",
      "HEPATITIS C                1\n",
      "Name: ALTO COSTO, dtype: int64\n"
     ]
    }
   ],
   "source": [
    "frec = data['ALTO COSTO'].value_counts()\n",
    "print (frec)"
   ]
  },
  {
   "cell_type": "code",
   "execution_count": 1115,
   "metadata": {},
   "outputs": [
    {
     "name": "stdout",
     "output_type": "stream",
     "text": [
      "   DESCRIPCION    Mes  Paciente Entidad Responsable Pago  \\\n",
      "0            1  2.634                                 48   \n",
      "1            1  2.634                                  5   \n",
      "2            1  2.634                                 65   \n",
      "3            1  2.634                                 48   \n",
      "4            1  2.634                                  1   \n",
      "\n",
      "   Minutos (Camara - F3)  Dx Principal Tipo  Dx Principal Cod  \\\n",
      "0              26.633333                   1             I10X   \n",
      "1              65.133333                   0             W540   \n",
      "2              82.050000                   0             G510   \n",
      "3               0.000000                   0             R224   \n",
      "4             116.850000                   0             K922   \n",
      "\n",
      "  Dx Principal Cod.1 Dx Relacionado1 Cod Dx Relacionado2 Cod   \\\n",
      "0            I00-I99                NA00                 NA00   \n",
      "1            V01-Y98                NA00                 NA00   \n",
      "2            G00-G99                NA00                 NA00   \n",
      "3            R00-R99                NA00                 NA00   \n",
      "4            K00-K93                NA00                 NA00   \n",
      "\n",
      "  Dx Relacionado3 Cod  ...  ALTO COSTO_CANCER  ALTO COSTO_DIABETES  \\\n",
      "0                NA00  ...                  0                    0   \n",
      "1                NA00  ...                  0                    0   \n",
      "2                NA00  ...                  0                    0   \n",
      "3                NA00  ...                  0                    0   \n",
      "4                NA00  ...                  0                    0   \n",
      "\n",
      "   ALTO COSTO_GESTANTES  ALTO COSTO_HEMOFILIA  ALTO COSTO_HEPATITIS C  \\\n",
      "0                     0                     0                       0   \n",
      "1                     0                     0                       0   \n",
      "2                     0                     0                       0   \n",
      "3                     0                     0                       0   \n",
      "4                     0                     0                       0   \n",
      "\n",
      "   ALTO COSTO_HIPERTENSION  ALTO COSTO_RENAL  ALTO COSTO_TUBERCULOSIS  \\\n",
      "0                        1                 0                        0   \n",
      "1                        0                 0                        0   \n",
      "2                        0                 0                        0   \n",
      "3                        0                 0                        0   \n",
      "4                        0                 0                        0   \n",
      "\n",
      "   ALTO COSTO_VIH  ALTO COSTO_ZNO ALTO COSTO  \n",
      "0               0                          0  \n",
      "1               0                          1  \n",
      "2               0                          1  \n",
      "3               0                          1  \n",
      "4               0                          1  \n",
      "\n",
      "[5 rows x 65 columns]\n"
     ]
    }
   ],
   "source": [
    "data = pd.get_dummies(data, columns=['ALTO COSTO'])\n",
    "print(data.head())"
   ]
  },
  {
   "cell_type": "markdown",
   "metadata": {},
   "source": [
    "## Variables de diagnostico\n"
   ]
  },
  {
   "cell_type": "code",
   "execution_count": 1116,
   "metadata": {},
   "outputs": [
    {
     "name": "stdout",
     "output_type": "stream",
     "text": [
      "Hay categorías comunes entre las columnas\n",
      "Categorías comunes: {'I10X', 'E440', 'S910', 'S900', 'S501', 'K922', 'J039', 'J960', 'E039', 'S420', 'N189', 'R300', 'M796', 'S809', 'S903', 'S818', 'S700', 'M329', 'I500', 'K830', 'S800', 'E86X', 'J22X', 'J00X', 'R040', 'G409', 'H651', 'R51X', 'S015', 'S901', 'A419', 'R55X', 'E119', 'S069', 'T861', 'H920', 'R11X', 'D649', 'R31X', 'L039', 'R521', 'S068', 'G934', 'A090', 'S019', 'C900', 'L089', 'R400', 'E109', 'H669', 'J441', 'N390', 'S801', 'I269', 'R17X', 'J050', 'R072', 'N179', 'S022', 'S701', 'J353', 'B86X', 'S018', 'N185', 'R104', 'R05X', 'S519', 'K746', 'I499', 'S422', 'S202', 'S619', 'S607', 'J448', 'I219', 'E107', 'H659', 'M545', 'R520', 'R101', 'R074', 'F09X', 'S099', 'R34X', 'R634', 'R060', 'Z940', 'S810', 'S600', 'S500', 'R509', 'S909', 'R418', 'S609', 'S098', 'N939', 'S602', 'J449', 'S301', 'M542'}\n"
     ]
    }
   ],
   "source": [
    "# Suponiendo que 'data' es tu DataFrame\n",
    "categorias_dx_principal = data['Dx Principal Cod'].value_counts().index\n",
    "categorias_dx_relacionado1 = data['Dx Relacionado1 Cod'].value_counts().index\n",
    "categorias_dx_relacionado2 = data['Dx Relacionado2 Cod '].value_counts().index\n",
    "categorias_dx_relacionado3 = data['Dx Relacionado3 Cod'].value_counts().index\n",
    "\n",
    "# Verificar si hay categorías iguales\n",
    "categorias_comunes = set(categorias_dx_principal) & set(categorias_dx_relacionado1) & set(categorias_dx_relacionado2) & set(categorias_dx_relacionado3)\n",
    "\n",
    "if len(categorias_comunes) > 0:\n",
    "    print(\"Hay categorías comunes entre las columnas\")\n",
    "    print(\"Categorías comunes:\", categorias_comunes)\n",
    "else:\n",
    "    print(\"No hay categorías comunes entre las columnas.\")"
   ]
  },
  {
   "cell_type": "markdown",
   "metadata": {},
   "source": [
    "Como hay categorias de diagnosticos comunes entre el principal y relacionados, en este caso se usa un enfoque similar al one-hot encoding, se crea una codificación especial donde se tenga una columna por cada código de diagnóstico posible, y si un paciente tiene ese diagnóstico como principal, el valor sea 2; si es un diagnóstico relacionado, el valor sea 1; y si el paciente no tiene ese diagnóstico, el valor sea 0."
   ]
  },
  {
   "cell_type": "code",
   "execution_count": 1117,
   "metadata": {},
   "outputs": [
    {
     "name": "stdout",
     "output_type": "stream",
     "text": [
      "   DESCRIPCION    Mes  Paciente Entidad Responsable Pago  \\\n",
      "0            1  2.634                                 48   \n",
      "1            1  2.634                                  5   \n",
      "2            1  2.634                                 65   \n",
      "3            1  2.634                                 48   \n",
      "4            1  2.634                                  1   \n",
      "\n",
      "   Minutos (Camara - F3)  Dx Principal Tipo  Dx Principal Cod  \\\n",
      "0              26.633333                   1             I10X   \n",
      "1              65.133333                   0             W540   \n",
      "2              82.050000                   0             G510   \n",
      "3               0.000000                   0             R224   \n",
      "4             116.850000                   0             K922   \n",
      "\n",
      "  Dx Principal Cod.1 Dx Relacionado1 Cod Dx Relacionado2 Cod   \\\n",
      "0            I00-I99                NA00                 NA00   \n",
      "1            V01-Y98                NA00                 NA00   \n",
      "2            G00-G99                NA00                 NA00   \n",
      "3            R00-R99                NA00                 NA00   \n",
      "4            K00-K93                NA00                 NA00   \n",
      "\n",
      "  Dx Relacionado3 Cod  ...  T810  S010  M795  H193  S798  H931  V232  T854  \\\n",
      "0                NA00  ...     0     0     0     0     0     0     0     0   \n",
      "1                NA00  ...     0     0     0     0     0     0     0     0   \n",
      "2                NA00  ...     0     0     0     0     0     0     0     0   \n",
      "3                NA00  ...     0     0     0     0     0     0     0     0   \n",
      "4                NA00  ...     0     0     0     0     0     0     0     0   \n",
      "\n",
      "   M430  C495  \n",
      "0     0     0  \n",
      "1     0     0  \n",
      "2     0     0  \n",
      "3     0     0  \n",
      "4     0     0  \n",
      "\n",
      "[5 rows x 2434 columns]\n"
     ]
    }
   ],
   "source": [
    "# Obtener la lista de todos los códigos de diagnóstico únicos\n",
    "codigos_diagnosticos = list(set(data['Dx Principal Cod'].unique()).union(\n",
    "                             set(data['Dx Relacionado1 Cod'].unique()),\n",
    "                             set(data['Dx Relacionado2 Cod '].unique()),  # Espacio adicional aquí\n",
    "                             set(data['Dx Relacionado3 Cod'].unique())))\n",
    "\n",
    "# Crear un DataFrame vacío para almacenar las nuevas columnas\n",
    "nuevas_columnas = pd.DataFrame(0, index=data.index, columns=codigos_diagnosticos)\n",
    "\n",
    "# Recorrer cada fila y establecer el valor apropiado para cada código de diagnóstico\n",
    "for idx, row in data.iterrows():\n",
    "    if row['Dx Principal Cod'] in codigos_diagnosticos:\n",
    "        nuevas_columnas.at[idx, row['Dx Principal Cod']] = 2\n",
    "    if row['Dx Relacionado1 Cod'] in codigos_diagnosticos:\n",
    "        nuevas_columnas.at[idx, row['Dx Relacionado1 Cod']] = 1\n",
    "    if row['Dx Relacionado2 Cod '] in codigos_diagnosticos:  # Espacio adicional aquí\n",
    "        nuevas_columnas.at[idx, row['Dx Relacionado2 Cod ']] = 1  # Espacio adicional aquí\n",
    "    if row['Dx Relacionado3 Cod'] in codigos_diagnosticos:\n",
    "        nuevas_columnas.at[idx, row['Dx Relacionado3 Cod']] = 1\n",
    "\n",
    "# Concatenar el DataFrame original con las nuevas columnas\n",
    "data = pd.concat([data, nuevas_columnas], axis=1)\n",
    "\n",
    "# Verificar el resultado\n",
    "print(data.head())"
   ]
  },
  {
   "cell_type": "code",
   "execution_count": 1118,
   "metadata": {},
   "outputs": [
    {
     "name": "stdout",
     "output_type": "stream",
     "text": [
      "       DESCRIPCION    Mes  Paciente Entidad Responsable Pago  \\\n",
      "0                1  2.634                                 48   \n",
      "1                1  2.634                                  5   \n",
      "2                1  2.634                                 65   \n",
      "3                1  2.634                                 48   \n",
      "4                1  2.634                                  1   \n",
      "...            ...    ...                                ...   \n",
      "28782            1  1.634                                 53   \n",
      "28783            1  1.634                                 48   \n",
      "28784            1  1.634                                 65   \n",
      "28785            1  1.634                                 18   \n",
      "28786            1  1.634                                 48   \n",
      "\n",
      "       Minutos (Camara - F3)  Dx Principal Tipo   Paciente Edad  \\\n",
      "0                  26.633333                   1           75.0   \n",
      "1                  65.133333                   0           61.0   \n",
      "2                  82.050000                   0           62.0   \n",
      "3                   0.000000                   0           78.0   \n",
      "4                 116.850000                   0           73.0   \n",
      "...                      ...                 ...            ...   \n",
      "28782              70.583333                   0           23.0   \n",
      "28783              42.500000                   0           49.0   \n",
      "28784              50.133333                   0           43.0   \n",
      "28785              40.900000                   0           54.0   \n",
      "28786              90.266667                   1           54.0   \n",
      "\n",
      "       Paciente Sexo  Clasificacion 1 Triaje \\nEnfermeria   \\\n",
      "0                  1                                     4   \n",
      "1                  1                                     3   \n",
      "2                  1                                     3   \n",
      "3                  0                                     0   \n",
      "4                  0                                     3   \n",
      "...              ...                                   ...   \n",
      "28782              0                                     3   \n",
      "28783              1                                     4   \n",
      "28784              0                                     3   \n",
      "28785              0                                     3   \n",
      "28786              1                                     3   \n",
      "\n",
      "       Modalidad Atencion  Hora Diligenciamiento F3  ...  T810  S010  M795  \\\n",
      "0                       1                  0.862616  ...     0     0     0   \n",
      "1                       1                  0.638356  ...     0     0     0   \n",
      "2                       1                  0.821887  ...     0     0     0   \n",
      "3                       0                  0.712373  ...     0     0     0   \n",
      "4                       1                  0.503935  ...     0     0     0   \n",
      "...                   ...                       ...  ...   ...   ...   ...   \n",
      "28782                   1                  0.751505  ...     0     0     0   \n",
      "28783                   1                  0.875880  ...     0     0     0   \n",
      "28784                   1                  0.150648  ...     0     0     0   \n",
      "28785                   1                  0.414919  ...     0     0     0   \n",
      "28786                   1                  0.595729  ...     0     0     0   \n",
      "\n",
      "       H193  S798  H931  V232  T854  M430  C495  \n",
      "0         0     0     0     0     0     0     0  \n",
      "1         0     0     0     0     0     0     0  \n",
      "2         0     0     0     0     0     0     0  \n",
      "3         0     0     0     0     0     0     0  \n",
      "4         0     0     0     0     0     0     0  \n",
      "...     ...   ...   ...   ...   ...   ...   ...  \n",
      "28782     0     0     0     0     0     0     0  \n",
      "28783     0     0     0     0     0     0     0  \n",
      "28784     0     0     0     0     0     0     0  \n",
      "28785     0     0     0     0     0     0     0  \n",
      "28786     0     0     0     0     0     0     0  \n",
      "\n",
      "[28787 rows x 2429 columns]\n"
     ]
    }
   ],
   "source": [
    "# Eliminar las columnas de diagnóstico originales si es necesario\n",
    "data.drop(columns=['Dx Principal Cod.1','Dx Principal Cod', 'Dx Relacionado1 Cod', 'Dx Relacionado2 Cod ', 'Dx Relacionado3 Cod'], inplace=True)\n",
    "print(data)"
   ]
  },
  {
   "cell_type": "markdown",
   "metadata": {},
   "source": [
    "Ya todas las columnas son numéricas y no hay ninguna categórica"
   ]
  },
  {
   "cell_type": "code",
   "execution_count": 1119,
   "metadata": {},
   "outputs": [
    {
     "name": "stdout",
     "output_type": "stream",
     "text": [
      "<class 'pandas.core.frame.DataFrame'>\n",
      "RangeIndex: 28787 entries, 0 to 28786\n",
      "Columns: 2429 entries, DESCRIPCION to C495\n",
      "dtypes: float64(5), int32(1), int64(2375), uint8(48)\n",
      "memory usage: 524.1 MB\n",
      "None\n",
      "Columnas categóricas:\n",
      "Index([], dtype='object')\n"
     ]
    }
   ],
   "source": [
    "# Mostrar información sobre el DataFrame\n",
    "print(data.info())\n",
    "\n",
    "# Filtrar columnas de tipo 'object'\n",
    "columnas_categoricas = data.select_dtypes(include=['object']).columns\n",
    "\n",
    "# Imprimir las columnas categóricas\n",
    "print(\"Columnas categóricas:\")\n",
    "print(columnas_categoricas)\n"
   ]
  }
 ],
 "metadata": {
  "kernelspec": {
   "display_name": "Python 3",
   "language": "python",
   "name": "python3"
  },
  "language_info": {
   "codemirror_mode": {
    "name": "ipython",
    "version": 3
   },
   "file_extension": ".py",
   "mimetype": "text/x-python",
   "name": "python",
   "nbconvert_exporter": "python",
   "pygments_lexer": "ipython3",
   "version": "3.11.8"
  }
 },
 "nbformat": 4,
 "nbformat_minor": 2
}
