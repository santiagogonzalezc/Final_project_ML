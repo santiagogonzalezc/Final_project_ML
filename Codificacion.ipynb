{
 "cells": [
  {
   "cell_type": "markdown",
   "metadata": {},
   "source": [
    "## **Codificación de variables categóricas**"
   ]
  },
  {
   "cell_type": "code",
   "execution_count": 74,
   "metadata": {},
   "outputs": [],
   "source": [
    "import pandas as pd"
   ]
  },
  {
   "cell_type": "code",
   "execution_count": 75,
   "metadata": {},
   "outputs": [
    {
     "name": "stdout",
     "output_type": "stream",
     "text": [
      "<class 'pandas.core.frame.DataFrame'>\n",
      "RangeIndex: 28787 entries, 0 to 28786\n",
      "Data columns (total 25 columns):\n",
      " #   Column                               Non-Null Count  Dtype  \n",
      "---  ------                               --------------  -----  \n",
      " 0   DESCRIPCION                          28787 non-null  object \n",
      " 1   Mes                                  28787 non-null  object \n",
      " 2   Tipo Egreso (INTERNACION)            28787 non-null  object \n",
      " 3   Paciente Entidad Responsable Pago    28787 non-null  object \n",
      " 4   Paciente Modalidad Contrato          28787 non-null  object \n",
      " 5   Paciente Regimen Afiliacion          28787 non-null  object \n",
      " 6   Minutos (Camara - F3)                28787 non-null  float64\n",
      " 7   Dx Principal Tipo                    28787 non-null  object \n",
      " 8   Dx Principal Cod                     28787 non-null  object \n",
      " 9   Dx Principal Cod.1                   28787 non-null  object \n",
      " 10  Dx Relacionado1 Cod                  28787 non-null  object \n",
      " 11  Dx Relacionado2 Cod                  28787 non-null  object \n",
      " 12  Dx Relacionado3 Cod                  28787 non-null  object \n",
      " 13  Paciente Edad                        28787 non-null  float64\n",
      " 14  Paciente Sexo                        28787 non-null  object \n",
      " 15  Clasificacion 1 Triaje \n",
      "Enfermeria   28787 non-null  object \n",
      " 16  Causa Externa  (Riesgo)              28787 non-null  object \n",
      " 17  Modalidad Atencion                   28787 non-null  object \n",
      " 18  Ubicación Triaje                     28787 non-null  object \n",
      " 19  Hora Diligenciamiento F3             28787 non-null  float64\n",
      " 20  Minutos                              28787 non-null  float64\n",
      " 21  Urgencia Xpress F3                   28787 non-null  bool   \n",
      " 22  Grupo Poblacional                    28787 non-null  object \n",
      " 23  Pertenencia Etnica                   28787 non-null  object \n",
      " 24  ALTO COSTO                           28787 non-null  object \n",
      "dtypes: bool(1), float64(4), object(20)\n",
      "memory usage: 5.3+ MB\n"
     ]
    }
   ],
   "source": [
    "# Cargar desde CSV\n",
    "data = pd.read_csv('dataframe24salida.csv')\n",
    "data.info()"
   ]
  },
  {
   "cell_type": "markdown",
   "metadata": {},
   "source": [
    "## Descripción\n",
    "\n",
    "Codificación binaria"
   ]
  },
  {
   "cell_type": "code",
   "execution_count": 76,
   "metadata": {},
   "outputs": [
    {
     "name": "stdout",
     "output_type": "stream",
     "text": [
      "URGENCIAS ADULTO         21426\n",
      "URGENCIAS PEDIATRICAS     7361\n",
      "Name: DESCRIPCION, dtype: int64\n"
     ]
    }
   ],
   "source": [
    "frec = data['DESCRIPCION'].value_counts()\n",
    "print(frec)"
   ]
  },
  {
   "cell_type": "code",
   "execution_count": 77,
   "metadata": {},
   "outputs": [
    {
     "name": "stdout",
     "output_type": "stream",
     "text": [
      "1    21426\n",
      "0     7361\n",
      "Name: DESCRIPCION, dtype: int64\n"
     ]
    }
   ],
   "source": [
    "data['DESCRIPCION'] = data['DESCRIPCION'].map({'URGENCIAS PEDIATRICAS':0 , 'URGENCIAS ADULTO':1})\n",
    "\n",
    "print(data['DESCRIPCION'].value_counts())"
   ]
  },
  {
   "cell_type": "markdown",
   "metadata": {},
   "source": [
    "## Mes"
   ]
  },
  {
   "cell_type": "markdown",
   "metadata": {},
   "source": [
    "Codificación por frecuencia, dado que puede ser **útil cuando capturar la información sobre la prevalencia de hospitalizados según el mes, dado que hay variaciones considerables**"
   ]
  },
  {
   "cell_type": "code",
   "execution_count": 78,
   "metadata": {},
   "outputs": [
    {
     "name": "stdout",
     "output_type": "stream",
     "text": [
      "   DESCRIPCION    Mes Tipo Egreso (INTERNACION)  \\\n",
      "0            1  2.634             HOSPITALIZADO   \n",
      "1            1  2.634                 NO APLICA   \n",
      "2            1  2.634                 NO APLICA   \n",
      "3            1  2.634             HOSPITALIZADO   \n",
      "4            1  2.634             HOSPITALIZADO   \n",
      "\n",
      "  Paciente Entidad Responsable Pago Paciente Modalidad Contrato  \\\n",
      "0                                48                      EVENTO   \n",
      "1                                 5                         PGP   \n",
      "2                                65                      EVENTO   \n",
      "3                                48                      EVENTO   \n",
      "4                             Otros                      EVENTO   \n",
      "\n",
      "  Paciente Regimen Afiliacion  Minutos (Camara - F3) Dx Principal Tipo   \\\n",
      "0                  SUBSIDIADO              26.633333           REPETIDO   \n",
      "1                  SUBSIDIADO              65.133333              NUEVO   \n",
      "2                    ESPECIAL              82.050000              NUEVO   \n",
      "3                CONTRIBUTIVO               0.000000              NUEVO   \n",
      "4                CONTRIBUTIVO             116.850000              NUEVO   \n",
      "\n",
      "  Dx Principal Cod Dx Principal Cod.1  ...  \\\n",
      "0             I10X            I00-I99  ...   \n",
      "1             W540            V01-Y98  ...   \n",
      "2             G510            G00-G99  ...   \n",
      "3             R224            R00-R99  ...   \n",
      "4             K922            K00-K93  ...   \n",
      "\n",
      "  Clasificacion 1 Triaje \\nEnfermeria  Causa Externa  (Riesgo)  \\\n",
      "0                             TRIAJE 2      ENFERMEDAD GENERAL   \n",
      "1                             TRIAJE 3      ENFERMEDAD GENERAL   \n",
      "2                             TRIAJE 3      ENFERMEDAD GENERAL   \n",
      "3                            NO APLICA      ENFERMEDAD GENERAL   \n",
      "4                             TRIAJE 3      ENFERMEDAD GENERAL   \n",
      "\n",
      "  Modalidad Atencion  Ubicación Triaje Hora Diligenciamiento F3 Minutos  \\\n",
      "0          URGENCIAS            XPRESS                 0.862616    15.0   \n",
      "1          URGENCIAS            TRAUMA                 0.638356    56.0   \n",
      "2          URGENCIAS     CONSULTORIO 1                 0.821887    79.0   \n",
      "3           REMITIDO            XPRESS                 0.712373     0.0   \n",
      "4          URGENCIAS     CONSULTORIO 1                 0.503935   108.0   \n",
      "\n",
      "  Urgencia Xpress F3  Grupo Poblacional Pertenencia Etnica      ALTO COSTO  \n",
      "0               True  POBLACIÓN GENERAL       OTRAS ETNIAS    HIPERTENSION  \n",
      "1              False  POBLACIÓN GENERAL       OTRAS ETNIAS  ZNO ALTO COSTO  \n",
      "2              False  POBLACIÓN GENERAL       OTRAS ETNIAS  ZNO ALTO COSTO  \n",
      "3               True  POBLACIÓN GENERAL       OTRAS ETNIAS  ZNO ALTO COSTO  \n",
      "4              False  POBLACIÓN GENERAL       OTRAS ETNIAS  ZNO ALTO COSTO  \n",
      "\n",
      "[5 rows x 25 columns]\n"
     ]
    }
   ],
   "source": [
    "month_counts = data['Mes'].value_counts()\n",
    "\n",
    "# Aplicar la codificación de frecuencia\n",
    "data['Mes'] = data['Mes'].map(month_counts/1000)\n",
    "\n",
    "# Imprimir el dataframe codificado\n",
    "print(data.head())"
   ]
  },
  {
   "cell_type": "markdown",
   "metadata": {},
   "source": [
    "## Paciente entidad responsable pago"
   ]
  },
  {
   "cell_type": "code",
   "execution_count": 79,
   "metadata": {},
   "outputs": [
    {
     "name": "stdout",
     "output_type": "stream",
     "text": [
      "48       10607\n",
      "65        3458\n",
      "4         3045\n",
      "5         2535\n",
      "47        2199\n",
      "34        1259\n",
      "68         830\n",
      "Otros      690\n",
      "53         602\n",
      "18         460\n",
      "23         408\n",
      "2          398\n",
      "11         375\n",
      "63         364\n",
      "39         326\n",
      "56         242\n",
      "15         222\n",
      "60         163\n",
      "46         140\n",
      "62         139\n",
      "57         118\n",
      "8          107\n",
      "61         100\n",
      "Name: Paciente Entidad Responsable Pago, dtype: int64\n",
      "int32\n"
     ]
    }
   ],
   "source": [
    "frec = data['Paciente Entidad Responsable Pago'].value_counts()\n",
    "print (frec)\n",
    "# Reemplazar 'Otros' por 1\n",
    "data['Paciente Entidad Responsable Pago'].replace('Otros', 1, inplace=True)\n",
    "\n",
    "# Convertir la columna a tipo de datos numérico\n",
    "data['Paciente Entidad Responsable Pago'] = data['Paciente Entidad Responsable Pago'].astype(int)\n",
    "\n",
    "# Verificar el tipo de datos de la columna después de la conversión\n",
    "print(data['Paciente Entidad Responsable Pago'].dtype)"
   ]
  },
  {
   "cell_type": "code",
   "execution_count": 80,
   "metadata": {},
   "outputs": [
    {
     "name": "stdout",
     "output_type": "stream",
     "text": [
      "48    10607\n",
      "65     3458\n",
      "4      3045\n",
      "5      2535\n",
      "47     2199\n",
      "34     1259\n",
      "68      830\n",
      "1       690\n",
      "53      602\n",
      "18      460\n",
      "23      408\n",
      "2       398\n",
      "11      375\n",
      "63      364\n",
      "39      326\n",
      "56      242\n",
      "15      222\n",
      "60      163\n",
      "46      140\n",
      "62      139\n",
      "57      118\n",
      "8       107\n",
      "61      100\n",
      "Name: Paciente Entidad Responsable Pago, dtype: int64\n"
     ]
    }
   ],
   "source": [
    "print(data['Paciente Entidad Responsable Pago'].value_counts())"
   ]
  },
  {
   "cell_type": "markdown",
   "metadata": {},
   "source": [
    "## Paciente Modalidad Contrato "
   ]
  },
  {
   "cell_type": "code",
   "execution_count": 81,
   "metadata": {},
   "outputs": [
    {
     "name": "stdout",
     "output_type": "stream",
     "text": [
      "EVENTO    24023\n",
      "PGP        4734\n",
      "CAPITA       30\n",
      "Name: Paciente Modalidad Contrato, dtype: int64\n"
     ]
    }
   ],
   "source": [
    "frec = data['Paciente Modalidad Contrato'].value_counts()\n",
    "print (frec)"
   ]
  },
  {
   "cell_type": "code",
   "execution_count": 82,
   "metadata": {},
   "outputs": [
    {
     "name": "stdout",
     "output_type": "stream",
     "text": [
      "   DESCRIPCION    Mes Tipo Egreso (INTERNACION)  \\\n",
      "0            1  2.634             HOSPITALIZADO   \n",
      "1            1  2.634                 NO APLICA   \n",
      "2            1  2.634                 NO APLICA   \n",
      "3            1  2.634             HOSPITALIZADO   \n",
      "4            1  2.634             HOSPITALIZADO   \n",
      "\n",
      "   Paciente Entidad Responsable Pago Paciente Regimen Afiliacion  \\\n",
      "0                                 48                  SUBSIDIADO   \n",
      "1                                  5                  SUBSIDIADO   \n",
      "2                                 65                    ESPECIAL   \n",
      "3                                 48                CONTRIBUTIVO   \n",
      "4                                  1                CONTRIBUTIVO   \n",
      "\n",
      "   Minutos (Camara - F3) Dx Principal Tipo  Dx Principal Cod  \\\n",
      "0              26.633333           REPETIDO             I10X   \n",
      "1              65.133333              NUEVO             W540   \n",
      "2              82.050000              NUEVO             G510   \n",
      "3               0.000000              NUEVO             R224   \n",
      "4             116.850000              NUEVO             K922   \n",
      "\n",
      "  Dx Principal Cod.1 Dx Relacionado1 Cod  ... Ubicación Triaje  \\\n",
      "0            I00-I99                NA00  ...           XPRESS   \n",
      "1            V01-Y98                NA00  ...           TRAUMA   \n",
      "2            G00-G99                NA00  ...    CONSULTORIO 1   \n",
      "3            R00-R99                NA00  ...           XPRESS   \n",
      "4            K00-K93                NA00  ...    CONSULTORIO 1   \n",
      "\n",
      "  Hora Diligenciamiento F3  Minutos Urgencia Xpress F3  Grupo Poblacional  \\\n",
      "0                 0.862616     15.0               True  POBLACIÓN GENERAL   \n",
      "1                 0.638356     56.0              False  POBLACIÓN GENERAL   \n",
      "2                 0.821887     79.0              False  POBLACIÓN GENERAL   \n",
      "3                 0.712373      0.0               True  POBLACIÓN GENERAL   \n",
      "4                 0.503935    108.0              False  POBLACIÓN GENERAL   \n",
      "\n",
      "  Pertenencia Etnica      ALTO COSTO Paciente Modalidad Contrato_CAPITA  \\\n",
      "0       OTRAS ETNIAS    HIPERTENSION                                  0   \n",
      "1       OTRAS ETNIAS  ZNO ALTO COSTO                                  0   \n",
      "2       OTRAS ETNIAS  ZNO ALTO COSTO                                  0   \n",
      "3       OTRAS ETNIAS  ZNO ALTO COSTO                                  0   \n",
      "4       OTRAS ETNIAS  ZNO ALTO COSTO                                  0   \n",
      "\n",
      "   Paciente Modalidad Contrato_EVENTO  Paciente Modalidad Contrato_PGP  \n",
      "0                                   1                                0  \n",
      "1                                   0                                1  \n",
      "2                                   1                                0  \n",
      "3                                   1                                0  \n",
      "4                                   1                                0  \n",
      "\n",
      "[5 rows x 27 columns]\n"
     ]
    }
   ],
   "source": [
    "data = pd.get_dummies(data, columns=['Paciente Modalidad Contrato'])\n",
    "print(data.head())"
   ]
  },
  {
   "cell_type": "markdown",
   "metadata": {},
   "source": [
    "## Paciente Regimen Afiliacion "
   ]
  },
  {
   "cell_type": "code",
   "execution_count": 83,
   "metadata": {},
   "outputs": [
    {
     "name": "stdout",
     "output_type": "stream",
     "text": [
      "CONTRIBUTIVO    11911\n",
      "SUBSIDIADO       9232\n",
      "ESPECIAL         4978\n",
      "NO ASEGURADO     2666\n",
      "Name: Paciente Regimen Afiliacion, dtype: int64\n"
     ]
    }
   ],
   "source": [
    "frec = data['Paciente Regimen Afiliacion'].value_counts()\n",
    "print (frec)"
   ]
  },
  {
   "cell_type": "code",
   "execution_count": 84,
   "metadata": {},
   "outputs": [
    {
     "name": "stdout",
     "output_type": "stream",
     "text": [
      "   DESCRIPCION    Mes Tipo Egreso (INTERNACION)  \\\n",
      "0            1  2.634             HOSPITALIZADO   \n",
      "1            1  2.634                 NO APLICA   \n",
      "2            1  2.634                 NO APLICA   \n",
      "3            1  2.634             HOSPITALIZADO   \n",
      "4            1  2.634             HOSPITALIZADO   \n",
      "\n",
      "   Paciente Entidad Responsable Pago  Minutos (Camara - F3)  \\\n",
      "0                                 48              26.633333   \n",
      "1                                  5              65.133333   \n",
      "2                                 65              82.050000   \n",
      "3                                 48               0.000000   \n",
      "4                                  1             116.850000   \n",
      "\n",
      "  Dx Principal Tipo  Dx Principal Cod Dx Principal Cod.1 Dx Relacionado1 Cod  \\\n",
      "0           REPETIDO             I10X            I00-I99                NA00   \n",
      "1              NUEVO             W540            V01-Y98                NA00   \n",
      "2              NUEVO             G510            G00-G99                NA00   \n",
      "3              NUEVO             R224            R00-R99                NA00   \n",
      "4              NUEVO             K922            K00-K93                NA00   \n",
      "\n",
      "  Dx Relacionado2 Cod   ...  Grupo Poblacional  Pertenencia Etnica  \\\n",
      "0                 NA00  ...  POBLACIÓN GENERAL        OTRAS ETNIAS   \n",
      "1                 NA00  ...  POBLACIÓN GENERAL        OTRAS ETNIAS   \n",
      "2                 NA00  ...  POBLACIÓN GENERAL        OTRAS ETNIAS   \n",
      "3                 NA00  ...  POBLACIÓN GENERAL        OTRAS ETNIAS   \n",
      "4                 NA00  ...  POBLACIÓN GENERAL        OTRAS ETNIAS   \n",
      "\n",
      "       ALTO COSTO Paciente Modalidad Contrato_CAPITA  \\\n",
      "0    HIPERTENSION                                  0   \n",
      "1  ZNO ALTO COSTO                                  0   \n",
      "2  ZNO ALTO COSTO                                  0   \n",
      "3  ZNO ALTO COSTO                                  0   \n",
      "4  ZNO ALTO COSTO                                  0   \n",
      "\n",
      "  Paciente Modalidad Contrato_EVENTO Paciente Modalidad Contrato_PGP  \\\n",
      "0                                  1                               0   \n",
      "1                                  0                               1   \n",
      "2                                  1                               0   \n",
      "3                                  1                               0   \n",
      "4                                  1                               0   \n",
      "\n",
      "  Paciente Regimen Afiliacion_CONTRIBUTIVO  \\\n",
      "0                                        0   \n",
      "1                                        0   \n",
      "2                                        0   \n",
      "3                                        1   \n",
      "4                                        1   \n",
      "\n",
      "   Paciente Regimen Afiliacion_ESPECIAL  \\\n",
      "0                                     0   \n",
      "1                                     0   \n",
      "2                                     1   \n",
      "3                                     0   \n",
      "4                                     0   \n",
      "\n",
      "   Paciente Regimen Afiliacion_NO ASEGURADO  \\\n",
      "0                                         0   \n",
      "1                                         0   \n",
      "2                                         0   \n",
      "3                                         0   \n",
      "4                                         0   \n",
      "\n",
      "   Paciente Regimen Afiliacion_SUBSIDIADO  \n",
      "0                                       1  \n",
      "1                                       1  \n",
      "2                                       0  \n",
      "3                                       0  \n",
      "4                                       0  \n",
      "\n",
      "[5 rows x 30 columns]\n"
     ]
    }
   ],
   "source": [
    "data = pd.get_dummies(data, columns=['Paciente Regimen Afiliacion'])\n",
    "print(data.head())"
   ]
  },
  {
   "cell_type": "markdown",
   "metadata": {},
   "source": [
    "## Dx principal tipo\n",
    "\n",
    "Como solo se tienen dos categorías se usa codificación binaria."
   ]
  },
  {
   "cell_type": "code",
   "execution_count": 85,
   "metadata": {},
   "outputs": [
    {
     "name": "stdout",
     "output_type": "stream",
     "text": [
      "NUEVO       23861\n",
      "REPETIDO     4926\n",
      "Name: Dx Principal Tipo , dtype: int64\n"
     ]
    }
   ],
   "source": [
    "frec = data['Dx Principal Tipo '].value_counts()\n",
    "print (frec)"
   ]
  },
  {
   "cell_type": "code",
   "execution_count": 86,
   "metadata": {},
   "outputs": [],
   "source": [
    "data['Dx Principal Tipo '] = data['Dx Principal Tipo '].map({'NUEVO':0 , 'REPETIDO':1})"
   ]
  },
  {
   "cell_type": "code",
   "execution_count": 87,
   "metadata": {},
   "outputs": [
    {
     "name": "stdout",
     "output_type": "stream",
     "text": [
      "0    23861\n",
      "1     4926\n",
      "Name: Dx Principal Tipo , dtype: int64\n",
      "   DESCRIPCION    Mes Tipo Egreso (INTERNACION)  \\\n",
      "0            1  2.634             HOSPITALIZADO   \n",
      "1            1  2.634                 NO APLICA   \n",
      "2            1  2.634                 NO APLICA   \n",
      "3            1  2.634             HOSPITALIZADO   \n",
      "4            1  2.634             HOSPITALIZADO   \n",
      "\n",
      "   Paciente Entidad Responsable Pago  Minutos (Camara - F3)  \\\n",
      "0                                 48              26.633333   \n",
      "1                                  5              65.133333   \n",
      "2                                 65              82.050000   \n",
      "3                                 48               0.000000   \n",
      "4                                  1             116.850000   \n",
      "\n",
      "   Dx Principal Tipo  Dx Principal Cod Dx Principal Cod.1 Dx Relacionado1 Cod  \\\n",
      "0                   1             I10X            I00-I99                NA00   \n",
      "1                   0             W540            V01-Y98                NA00   \n",
      "2                   0             G510            G00-G99                NA00   \n",
      "3                   0             R224            R00-R99                NA00   \n",
      "4                   0             K922            K00-K93                NA00   \n",
      "\n",
      "  Dx Relacionado2 Cod   ...  Grupo Poblacional  Pertenencia Etnica  \\\n",
      "0                 NA00  ...  POBLACIÓN GENERAL        OTRAS ETNIAS   \n",
      "1                 NA00  ...  POBLACIÓN GENERAL        OTRAS ETNIAS   \n",
      "2                 NA00  ...  POBLACIÓN GENERAL        OTRAS ETNIAS   \n",
      "3                 NA00  ...  POBLACIÓN GENERAL        OTRAS ETNIAS   \n",
      "4                 NA00  ...  POBLACIÓN GENERAL        OTRAS ETNIAS   \n",
      "\n",
      "       ALTO COSTO Paciente Modalidad Contrato_CAPITA  \\\n",
      "0    HIPERTENSION                                  0   \n",
      "1  ZNO ALTO COSTO                                  0   \n",
      "2  ZNO ALTO COSTO                                  0   \n",
      "3  ZNO ALTO COSTO                                  0   \n",
      "4  ZNO ALTO COSTO                                  0   \n",
      "\n",
      "  Paciente Modalidad Contrato_EVENTO Paciente Modalidad Contrato_PGP  \\\n",
      "0                                  1                               0   \n",
      "1                                  0                               1   \n",
      "2                                  1                               0   \n",
      "3                                  1                               0   \n",
      "4                                  1                               0   \n",
      "\n",
      "  Paciente Regimen Afiliacion_CONTRIBUTIVO  \\\n",
      "0                                        0   \n",
      "1                                        0   \n",
      "2                                        0   \n",
      "3                                        1   \n",
      "4                                        1   \n",
      "\n",
      "   Paciente Regimen Afiliacion_ESPECIAL  \\\n",
      "0                                     0   \n",
      "1                                     0   \n",
      "2                                     1   \n",
      "3                                     0   \n",
      "4                                     0   \n",
      "\n",
      "   Paciente Regimen Afiliacion_NO ASEGURADO  \\\n",
      "0                                         0   \n",
      "1                                         0   \n",
      "2                                         0   \n",
      "3                                         0   \n",
      "4                                         0   \n",
      "\n",
      "   Paciente Regimen Afiliacion_SUBSIDIADO  \n",
      "0                                       1  \n",
      "1                                       1  \n",
      "2                                       0  \n",
      "3                                       0  \n",
      "4                                       0  \n",
      "\n",
      "[5 rows x 30 columns]\n"
     ]
    }
   ],
   "source": [
    "print(data['Dx Principal Tipo '].value_counts())\n",
    "print(data.head())"
   ]
  },
  {
   "cell_type": "markdown",
   "metadata": {},
   "source": [
    "## Paciente Sexo  \n",
    "\n",
    "Solo hay dos categorías y se realiza codificación binaria"
   ]
  },
  {
   "cell_type": "code",
   "execution_count": 88,
   "metadata": {},
   "outputs": [
    {
     "name": "stdout",
     "output_type": "stream",
     "text": [
      "FEMENINO     14605\n",
      "MASCULINO    14182\n",
      "Name: Paciente Sexo, dtype: int64\n"
     ]
    }
   ],
   "source": [
    "frec = data['Paciente Sexo'].value_counts()\n",
    "print (frec)"
   ]
  },
  {
   "cell_type": "code",
   "execution_count": 89,
   "metadata": {},
   "outputs": [
    {
     "name": "stdout",
     "output_type": "stream",
     "text": [
      "   DESCRIPCION    Mes Tipo Egreso (INTERNACION)  \\\n",
      "0            1  2.634             HOSPITALIZADO   \n",
      "1            1  2.634                 NO APLICA   \n",
      "2            1  2.634                 NO APLICA   \n",
      "3            1  2.634             HOSPITALIZADO   \n",
      "4            1  2.634             HOSPITALIZADO   \n",
      "\n",
      "   Paciente Entidad Responsable Pago  Minutos (Camara - F3)  \\\n",
      "0                                 48              26.633333   \n",
      "1                                  5              65.133333   \n",
      "2                                 65              82.050000   \n",
      "3                                 48               0.000000   \n",
      "4                                  1             116.850000   \n",
      "\n",
      "   Dx Principal Tipo  Dx Principal Cod Dx Principal Cod.1 Dx Relacionado1 Cod  \\\n",
      "0                   1             I10X            I00-I99                NA00   \n",
      "1                   0             W540            V01-Y98                NA00   \n",
      "2                   0             G510            G00-G99                NA00   \n",
      "3                   0             R224            R00-R99                NA00   \n",
      "4                   0             K922            K00-K93                NA00   \n",
      "\n",
      "  Dx Relacionado2 Cod   ...  Grupo Poblacional  Pertenencia Etnica  \\\n",
      "0                 NA00  ...  POBLACIÓN GENERAL        OTRAS ETNIAS   \n",
      "1                 NA00  ...  POBLACIÓN GENERAL        OTRAS ETNIAS   \n",
      "2                 NA00  ...  POBLACIÓN GENERAL        OTRAS ETNIAS   \n",
      "3                 NA00  ...  POBLACIÓN GENERAL        OTRAS ETNIAS   \n",
      "4                 NA00  ...  POBLACIÓN GENERAL        OTRAS ETNIAS   \n",
      "\n",
      "       ALTO COSTO Paciente Modalidad Contrato_CAPITA  \\\n",
      "0    HIPERTENSION                                  0   \n",
      "1  ZNO ALTO COSTO                                  0   \n",
      "2  ZNO ALTO COSTO                                  0   \n",
      "3  ZNO ALTO COSTO                                  0   \n",
      "4  ZNO ALTO COSTO                                  0   \n",
      "\n",
      "  Paciente Modalidad Contrato_EVENTO Paciente Modalidad Contrato_PGP  \\\n",
      "0                                  1                               0   \n",
      "1                                  0                               1   \n",
      "2                                  1                               0   \n",
      "3                                  1                               0   \n",
      "4                                  1                               0   \n",
      "\n",
      "  Paciente Regimen Afiliacion_CONTRIBUTIVO  \\\n",
      "0                                        0   \n",
      "1                                        0   \n",
      "2                                        0   \n",
      "3                                        1   \n",
      "4                                        1   \n",
      "\n",
      "   Paciente Regimen Afiliacion_ESPECIAL  \\\n",
      "0                                     0   \n",
      "1                                     0   \n",
      "2                                     1   \n",
      "3                                     0   \n",
      "4                                     0   \n",
      "\n",
      "   Paciente Regimen Afiliacion_NO ASEGURADO  \\\n",
      "0                                         0   \n",
      "1                                         0   \n",
      "2                                         0   \n",
      "3                                         0   \n",
      "4                                         0   \n",
      "\n",
      "   Paciente Regimen Afiliacion_SUBSIDIADO  \n",
      "0                                       1  \n",
      "1                                       1  \n",
      "2                                       0  \n",
      "3                                       0  \n",
      "4                                       0  \n",
      "\n",
      "[5 rows x 30 columns]\n"
     ]
    }
   ],
   "source": [
    "data['Paciente Sexo'] = data['Paciente Sexo'].map({'MASCULINO':0 , 'FEMENINO':1})\n",
    "print (data.head())"
   ]
  },
  {
   "cell_type": "markdown",
   "metadata": {},
   "source": [
    "## Clasificacion 1 Triaje Enfermeria\n",
    "\n",
    "Se hace una codificación ordinal dado que hay una jerarquía conocida entre las categorías. Se le da mayor valor numérico al triaje de mayor urgencia y así disminuye."
   ]
  },
  {
   "cell_type": "code",
   "execution_count": 90,
   "metadata": {},
   "outputs": [
    {
     "name": "stdout",
     "output_type": "stream",
     "text": [
      "TRIAJE 3     22134\n",
      "TRIAJE 2      4808\n",
      "NO APLICA     1460\n",
      "TRIAJE 4       207\n",
      "TRIAJE 1       134\n",
      "TRIAJE 5        44\n",
      "Name: Clasificacion 1 Triaje \\nEnfermeria , dtype: int64\n"
     ]
    }
   ],
   "source": [
    "frec = data['Clasificacion 1 Triaje \\nEnfermeria '].value_counts()\n",
    "print (frec)"
   ]
  },
  {
   "cell_type": "code",
   "execution_count": 91,
   "metadata": {},
   "outputs": [
    {
     "name": "stdout",
     "output_type": "stream",
     "text": [
      "3    22134\n",
      "4     4808\n",
      "0     1460\n",
      "2      207\n",
      "5      134\n",
      "1       44\n",
      "Name: Clasificacion 1 Triaje \\nEnfermeria , dtype: int64\n",
      "   DESCRIPCION    Mes Tipo Egreso (INTERNACION)  \\\n",
      "0            1  2.634             HOSPITALIZADO   \n",
      "1            1  2.634                 NO APLICA   \n",
      "2            1  2.634                 NO APLICA   \n",
      "3            1  2.634             HOSPITALIZADO   \n",
      "4            1  2.634             HOSPITALIZADO   \n",
      "\n",
      "   Paciente Entidad Responsable Pago  Minutos (Camara - F3)  \\\n",
      "0                                 48              26.633333   \n",
      "1                                  5              65.133333   \n",
      "2                                 65              82.050000   \n",
      "3                                 48               0.000000   \n",
      "4                                  1             116.850000   \n",
      "\n",
      "   Dx Principal Tipo  Dx Principal Cod Dx Principal Cod.1 Dx Relacionado1 Cod  \\\n",
      "0                   1             I10X            I00-I99                NA00   \n",
      "1                   0             W540            V01-Y98                NA00   \n",
      "2                   0             G510            G00-G99                NA00   \n",
      "3                   0             R224            R00-R99                NA00   \n",
      "4                   0             K922            K00-K93                NA00   \n",
      "\n",
      "  Dx Relacionado2 Cod   ...  Grupo Poblacional  Pertenencia Etnica  \\\n",
      "0                 NA00  ...  POBLACIÓN GENERAL        OTRAS ETNIAS   \n",
      "1                 NA00  ...  POBLACIÓN GENERAL        OTRAS ETNIAS   \n",
      "2                 NA00  ...  POBLACIÓN GENERAL        OTRAS ETNIAS   \n",
      "3                 NA00  ...  POBLACIÓN GENERAL        OTRAS ETNIAS   \n",
      "4                 NA00  ...  POBLACIÓN GENERAL        OTRAS ETNIAS   \n",
      "\n",
      "       ALTO COSTO  Paciente Modalidad Contrato_CAPITA  \\\n",
      "0    HIPERTENSION                                   0   \n",
      "1  ZNO ALTO COSTO                                   0   \n",
      "2  ZNO ALTO COSTO                                   0   \n",
      "3  ZNO ALTO COSTO                                   0   \n",
      "4  ZNO ALTO COSTO                                   0   \n",
      "\n",
      "  Paciente Modalidad Contrato_EVENTO Paciente Modalidad Contrato_PGP  \\\n",
      "0                                  1                               0   \n",
      "1                                  0                               1   \n",
      "2                                  1                               0   \n",
      "3                                  1                               0   \n",
      "4                                  1                               0   \n",
      "\n",
      "  Paciente Regimen Afiliacion_CONTRIBUTIVO  \\\n",
      "0                                        0   \n",
      "1                                        0   \n",
      "2                                        0   \n",
      "3                                        1   \n",
      "4                                        1   \n",
      "\n",
      "   Paciente Regimen Afiliacion_ESPECIAL  \\\n",
      "0                                     0   \n",
      "1                                     0   \n",
      "2                                     1   \n",
      "3                                     0   \n",
      "4                                     0   \n",
      "\n",
      "   Paciente Regimen Afiliacion_NO ASEGURADO  \\\n",
      "0                                         0   \n",
      "1                                         0   \n",
      "2                                         0   \n",
      "3                                         0   \n",
      "4                                         0   \n",
      "\n",
      "   Paciente Regimen Afiliacion_SUBSIDIADO  \n",
      "0                                       1  \n",
      "1                                       1  \n",
      "2                                       0  \n",
      "3                                       0  \n",
      "4                                       0  \n",
      "\n",
      "[5 rows x 30 columns]\n"
     ]
    }
   ],
   "source": [
    "# Definir el orden de las categorías\n",
    "orden = ['NO APLICA', 'TRIAJE 5', 'TRIAJE 4', 'TRIAJE 3', 'TRIAJE 2', 'TRIAJE 1']\n",
    "\n",
    "# Aplicar la codificación ordinal\n",
    "data['Clasificacion 1 Triaje \\nEnfermeria '] = data['Clasificacion 1 Triaje \\nEnfermeria '].map({cat: idx for idx, cat in enumerate(orden)})\n",
    "\n",
    "# Imprimir el dataframe codificado\n",
    "print(data['Clasificacion 1 Triaje \\nEnfermeria '].value_counts())\n",
    "print(data.head())"
   ]
  },
  {
   "cell_type": "markdown",
   "metadata": {},
   "source": [
    "## Causa Externa  (Riesgo) "
   ]
  },
  {
   "cell_type": "code",
   "execution_count": 92,
   "metadata": {},
   "outputs": [
    {
     "name": "stdout",
     "output_type": "stream",
     "text": [
      "ENFERMEDAD GENERAL        25595\n",
      "ACCIDENTE DE TRANSITO      2237\n",
      "ACCIDENTE DE TRABAJO        737\n",
      "OTRO TIPO DE ACCIDENTE      156\n",
      "LESIÓN POR AGRESIÓN          20\n",
      "OTRA                         16\n",
      "ENFERMEDAD PROFESIONAL       12\n",
      "SOSPECHA ABUSO SEXUAL         9\n",
      "ACCIDENTE RÁBICO              5\n",
      "Name: Causa Externa  (Riesgo), dtype: int64\n"
     ]
    }
   ],
   "source": [
    "frec = data['Causa Externa  (Riesgo)'].value_counts()\n",
    "print (frec)"
   ]
  },
  {
   "cell_type": "code",
   "execution_count": 93,
   "metadata": {},
   "outputs": [
    {
     "name": "stdout",
     "output_type": "stream",
     "text": [
      "   DESCRIPCION    Mes Tipo Egreso (INTERNACION)  \\\n",
      "0            1  2.634             HOSPITALIZADO   \n",
      "1            1  2.634                 NO APLICA   \n",
      "2            1  2.634                 NO APLICA   \n",
      "3            1  2.634             HOSPITALIZADO   \n",
      "4            1  2.634             HOSPITALIZADO   \n",
      "\n",
      "   Paciente Entidad Responsable Pago  Minutos (Camara - F3)  \\\n",
      "0                                 48              26.633333   \n",
      "1                                  5              65.133333   \n",
      "2                                 65              82.050000   \n",
      "3                                 48               0.000000   \n",
      "4                                  1             116.850000   \n",
      "\n",
      "   Dx Principal Tipo  Dx Principal Cod Dx Principal Cod.1 Dx Relacionado1 Cod  \\\n",
      "0                   1             I10X            I00-I99                NA00   \n",
      "1                   0             W540            V01-Y98                NA00   \n",
      "2                   0             G510            G00-G99                NA00   \n",
      "3                   0             R224            R00-R99                NA00   \n",
      "4                   0             K922            K00-K93                NA00   \n",
      "\n",
      "  Dx Relacionado2 Cod   ... Paciente Regimen Afiliacion_SUBSIDIADO  \\\n",
      "0                 NA00  ...                                      1   \n",
      "1                 NA00  ...                                      1   \n",
      "2                 NA00  ...                                      0   \n",
      "3                 NA00  ...                                      0   \n",
      "4                 NA00  ...                                      0   \n",
      "\n",
      "   Causa Externa  (Riesgo)_ACCIDENTE DE TRABAJO  \\\n",
      "0                                             0   \n",
      "1                                             0   \n",
      "2                                             0   \n",
      "3                                             0   \n",
      "4                                             0   \n",
      "\n",
      "   Causa Externa  (Riesgo)_ACCIDENTE DE TRANSITO  \\\n",
      "0                                              0   \n",
      "1                                              0   \n",
      "2                                              0   \n",
      "3                                              0   \n",
      "4                                              0   \n",
      "\n",
      "   Causa Externa  (Riesgo)_ACCIDENTE RÁBICO  \\\n",
      "0                                         0   \n",
      "1                                         0   \n",
      "2                                         0   \n",
      "3                                         0   \n",
      "4                                         0   \n",
      "\n",
      "  Causa Externa  (Riesgo)_ENFERMEDAD GENERAL  \\\n",
      "0                                          1   \n",
      "1                                          1   \n",
      "2                                          1   \n",
      "3                                          1   \n",
      "4                                          1   \n",
      "\n",
      "  Causa Externa  (Riesgo)_ENFERMEDAD PROFESIONAL  \\\n",
      "0                                              0   \n",
      "1                                              0   \n",
      "2                                              0   \n",
      "3                                              0   \n",
      "4                                              0   \n",
      "\n",
      "   Causa Externa  (Riesgo)_LESIÓN POR AGRESIÓN  Causa Externa  (Riesgo)_OTRA  \\\n",
      "0                                            0                             0   \n",
      "1                                            0                             0   \n",
      "2                                            0                             0   \n",
      "3                                            0                             0   \n",
      "4                                            0                             0   \n",
      "\n",
      "   Causa Externa  (Riesgo)_OTRO TIPO DE ACCIDENTE  \\\n",
      "0                                               0   \n",
      "1                                               0   \n",
      "2                                               0   \n",
      "3                                               0   \n",
      "4                                               0   \n",
      "\n",
      "  Causa Externa  (Riesgo)_SOSPECHA ABUSO SEXUAL  \n",
      "0                                             0  \n",
      "1                                             0  \n",
      "2                                             0  \n",
      "3                                             0  \n",
      "4                                             0  \n",
      "\n",
      "[5 rows x 38 columns]\n"
     ]
    }
   ],
   "source": [
    "data = pd.get_dummies(data, columns=['Causa Externa  (Riesgo)'])\n",
    "print(data.head())"
   ]
  },
  {
   "cell_type": "markdown",
   "metadata": {},
   "source": [
    "## Modalidad Atencion"
   ]
  },
  {
   "cell_type": "code",
   "execution_count": 94,
   "metadata": {},
   "outputs": [
    {
     "name": "stdout",
     "output_type": "stream",
     "text": [
      "URGENCIAS    26906\n",
      "REMITIDO      1881\n",
      "Name: Modalidad Atencion, dtype: int64\n"
     ]
    }
   ],
   "source": [
    "frec = data['Modalidad Atencion'].value_counts()\n",
    "print (frec)"
   ]
  },
  {
   "cell_type": "code",
   "execution_count": 95,
   "metadata": {},
   "outputs": [
    {
     "name": "stdout",
     "output_type": "stream",
     "text": [
      "1    26906\n",
      "0     1881\n",
      "Name: Modalidad Atencion, dtype: int64\n",
      "   DESCRIPCION    Mes Tipo Egreso (INTERNACION)  \\\n",
      "0            1  2.634             HOSPITALIZADO   \n",
      "1            1  2.634                 NO APLICA   \n",
      "2            1  2.634                 NO APLICA   \n",
      "3            1  2.634             HOSPITALIZADO   \n",
      "4            1  2.634             HOSPITALIZADO   \n",
      "\n",
      "   Paciente Entidad Responsable Pago  Minutos (Camara - F3)  \\\n",
      "0                                 48              26.633333   \n",
      "1                                  5              65.133333   \n",
      "2                                 65              82.050000   \n",
      "3                                 48               0.000000   \n",
      "4                                  1             116.850000   \n",
      "\n",
      "   Dx Principal Tipo  Dx Principal Cod Dx Principal Cod.1 Dx Relacionado1 Cod  \\\n",
      "0                   1             I10X            I00-I99                NA00   \n",
      "1                   0             W540            V01-Y98                NA00   \n",
      "2                   0             G510            G00-G99                NA00   \n",
      "3                   0             R224            R00-R99                NA00   \n",
      "4                   0             K922            K00-K93                NA00   \n",
      "\n",
      "  Dx Relacionado2 Cod   ... Paciente Regimen Afiliacion_SUBSIDIADO  \\\n",
      "0                 NA00  ...                                      1   \n",
      "1                 NA00  ...                                      1   \n",
      "2                 NA00  ...                                      0   \n",
      "3                 NA00  ...                                      0   \n",
      "4                 NA00  ...                                      0   \n",
      "\n",
      "   Causa Externa  (Riesgo)_ACCIDENTE DE TRABAJO  \\\n",
      "0                                             0   \n",
      "1                                             0   \n",
      "2                                             0   \n",
      "3                                             0   \n",
      "4                                             0   \n",
      "\n",
      "   Causa Externa  (Riesgo)_ACCIDENTE DE TRANSITO  \\\n",
      "0                                              0   \n",
      "1                                              0   \n",
      "2                                              0   \n",
      "3                                              0   \n",
      "4                                              0   \n",
      "\n",
      "   Causa Externa  (Riesgo)_ACCIDENTE RÁBICO  \\\n",
      "0                                         0   \n",
      "1                                         0   \n",
      "2                                         0   \n",
      "3                                         0   \n",
      "4                                         0   \n",
      "\n",
      "   Causa Externa  (Riesgo)_ENFERMEDAD GENERAL  \\\n",
      "0                                           1   \n",
      "1                                           1   \n",
      "2                                           1   \n",
      "3                                           1   \n",
      "4                                           1   \n",
      "\n",
      "  Causa Externa  (Riesgo)_ENFERMEDAD PROFESIONAL  \\\n",
      "0                                              0   \n",
      "1                                              0   \n",
      "2                                              0   \n",
      "3                                              0   \n",
      "4                                              0   \n",
      "\n",
      "   Causa Externa  (Riesgo)_LESIÓN POR AGRESIÓN  Causa Externa  (Riesgo)_OTRA  \\\n",
      "0                                            0                             0   \n",
      "1                                            0                             0   \n",
      "2                                            0                             0   \n",
      "3                                            0                             0   \n",
      "4                                            0                             0   \n",
      "\n",
      "   Causa Externa  (Riesgo)_OTRO TIPO DE ACCIDENTE  \\\n",
      "0                                               0   \n",
      "1                                               0   \n",
      "2                                               0   \n",
      "3                                               0   \n",
      "4                                               0   \n",
      "\n",
      "  Causa Externa  (Riesgo)_SOSPECHA ABUSO SEXUAL  \n",
      "0                                             0  \n",
      "1                                             0  \n",
      "2                                             0  \n",
      "3                                             0  \n",
      "4                                             0  \n",
      "\n",
      "[5 rows x 38 columns]\n"
     ]
    }
   ],
   "source": [
    "data['Modalidad Atencion'] = data['Modalidad Atencion'].map({'URGENCIAS':1 , 'REMITIDO':0})\n",
    "print (data['Modalidad Atencion'].value_counts())\n",
    "print (data.head())"
   ]
  },
  {
   "cell_type": "markdown",
   "metadata": {},
   "source": [
    "## Ubicación Triaje"
   ]
  },
  {
   "cell_type": "code",
   "execution_count": 96,
   "metadata": {},
   "outputs": [
    {
     "name": "stdout",
     "output_type": "stream",
     "text": [
      "CONSULTORIO 1               11786\n",
      "CONSULTORIO PEDIATRIA        7270\n",
      "TRAUMA                       5020\n",
      "XPRESS                       3098\n",
      "CONSULTORIO 4                 955\n",
      "UDEA                          558\n",
      "CONSULTORIO ONCOLOGIA          42\n",
      "SAI ADULTO                     19\n",
      "CONSULTORIO 1 MAGISTERIO       18\n",
      "CONSULTORIO 2                  10\n",
      "CONSULTORIO 3                   6\n",
      "TAMIZAJE COVID                  4\n",
      "XPress                          1\n",
      "Name: Ubicación Triaje, dtype: int64\n"
     ]
    }
   ],
   "source": [
    "frec = data['Ubicación Triaje'].value_counts()\n",
    "print (frec)"
   ]
  },
  {
   "cell_type": "code",
   "execution_count": 97,
   "metadata": {},
   "outputs": [
    {
     "name": "stdout",
     "output_type": "stream",
     "text": [
      "   DESCRIPCION    Mes Tipo Egreso (INTERNACION)  \\\n",
      "0            1  2.634             HOSPITALIZADO   \n",
      "1            1  2.634                 NO APLICA   \n",
      "2            1  2.634                 NO APLICA   \n",
      "3            1  2.634             HOSPITALIZADO   \n",
      "4            1  2.634             HOSPITALIZADO   \n",
      "\n",
      "   Paciente Entidad Responsable Pago  Minutos (Camara - F3)  \\\n",
      "0                                 48              26.633333   \n",
      "1                                  5              65.133333   \n",
      "2                                 65              82.050000   \n",
      "3                                 48               0.000000   \n",
      "4                                  1             116.850000   \n",
      "\n",
      "   Dx Principal Tipo  Dx Principal Cod Dx Principal Cod.1 Dx Relacionado1 Cod  \\\n",
      "0                   1             I10X            I00-I99                NA00   \n",
      "1                   0             W540            V01-Y98                NA00   \n",
      "2                   0             G510            G00-G99                NA00   \n",
      "3                   0             R224            R00-R99                NA00   \n",
      "4                   0             K922            K00-K93                NA00   \n",
      "\n",
      "  Dx Relacionado2 Cod   ... Ubicación Triaje_CONSULTORIO 3  \\\n",
      "0                 NA00  ...                              0   \n",
      "1                 NA00  ...                              0   \n",
      "2                 NA00  ...                              0   \n",
      "3                 NA00  ...                              0   \n",
      "4                 NA00  ...                              0   \n",
      "\n",
      "   Ubicación Triaje_CONSULTORIO 4  Ubicación Triaje_CONSULTORIO ONCOLOGIA  \\\n",
      "0                               0                                       0   \n",
      "1                               0                                       0   \n",
      "2                               0                                       0   \n",
      "3                               0                                       0   \n",
      "4                               0                                       0   \n",
      "\n",
      "   Ubicación Triaje_CONSULTORIO PEDIATRIA  Ubicación Triaje_SAI ADULTO  \\\n",
      "0                                       0                            0   \n",
      "1                                       0                            0   \n",
      "2                                       0                            0   \n",
      "3                                       0                            0   \n",
      "4                                       0                            0   \n",
      "\n",
      "   Ubicación Triaje_TAMIZAJE COVID  Ubicación Triaje_TRAUMA  \\\n",
      "0                                0                        0   \n",
      "1                                0                        1   \n",
      "2                                0                        0   \n",
      "3                                0                        0   \n",
      "4                                0                        0   \n",
      "\n",
      "   Ubicación Triaje_UDEA Ubicación Triaje_XPRESS Ubicación Triaje_XPress  \n",
      "0                      0                       1                       0  \n",
      "1                      0                       0                       0  \n",
      "2                      0                       0                       0  \n",
      "3                      0                       1                       0  \n",
      "4                      0                       0                       0  \n",
      "\n",
      "[5 rows x 50 columns]\n"
     ]
    }
   ],
   "source": [
    "data = pd.get_dummies(data, columns=['Ubicación Triaje'])\n",
    "print(data.head())"
   ]
  },
  {
   "cell_type": "markdown",
   "metadata": {},
   "source": [
    "## Urgencia Xpress F3"
   ]
  },
  {
   "cell_type": "code",
   "execution_count": 98,
   "metadata": {},
   "outputs": [
    {
     "name": "stdout",
     "output_type": "stream",
     "text": [
      "False    22947\n",
      "True      5840\n",
      "Name: Urgencia Xpress F3, dtype: int64 Index([False, True], dtype='bool')\n"
     ]
    }
   ],
   "source": [
    "frec = data['Urgencia Xpress F3'].value_counts()\n",
    "print (frec, frec.index)"
   ]
  },
  {
   "cell_type": "code",
   "execution_count": 99,
   "metadata": {},
   "outputs": [
    {
     "name": "stdout",
     "output_type": "stream",
     "text": [
      "1    22947\n",
      "0     5840\n",
      "Name: Urgencia Xpress F3, dtype: int64\n",
      "   DESCRIPCION    Mes Tipo Egreso (INTERNACION)  \\\n",
      "0            1  2.634             HOSPITALIZADO   \n",
      "1            1  2.634                 NO APLICA   \n",
      "2            1  2.634                 NO APLICA   \n",
      "3            1  2.634             HOSPITALIZADO   \n",
      "4            1  2.634             HOSPITALIZADO   \n",
      "\n",
      "   Paciente Entidad Responsable Pago  Minutos (Camara - F3)  \\\n",
      "0                                 48              26.633333   \n",
      "1                                  5              65.133333   \n",
      "2                                 65              82.050000   \n",
      "3                                 48               0.000000   \n",
      "4                                  1             116.850000   \n",
      "\n",
      "   Dx Principal Tipo  Dx Principal Cod Dx Principal Cod.1 Dx Relacionado1 Cod  \\\n",
      "0                   1             I10X            I00-I99                NA00   \n",
      "1                   0             W540            V01-Y98                NA00   \n",
      "2                   0             G510            G00-G99                NA00   \n",
      "3                   0             R224            R00-R99                NA00   \n",
      "4                   0             K922            K00-K93                NA00   \n",
      "\n",
      "  Dx Relacionado2 Cod   ... Ubicación Triaje_CONSULTORIO 3  \\\n",
      "0                 NA00  ...                              0   \n",
      "1                 NA00  ...                              0   \n",
      "2                 NA00  ...                              0   \n",
      "3                 NA00  ...                              0   \n",
      "4                 NA00  ...                              0   \n",
      "\n",
      "   Ubicación Triaje_CONSULTORIO 4  Ubicación Triaje_CONSULTORIO ONCOLOGIA  \\\n",
      "0                               0                                       0   \n",
      "1                               0                                       0   \n",
      "2                               0                                       0   \n",
      "3                               0                                       0   \n",
      "4                               0                                       0   \n",
      "\n",
      "   Ubicación Triaje_CONSULTORIO PEDIATRIA  Ubicación Triaje_SAI ADULTO  \\\n",
      "0                                       0                            0   \n",
      "1                                       0                            0   \n",
      "2                                       0                            0   \n",
      "3                                       0                            0   \n",
      "4                                       0                            0   \n",
      "\n",
      "   Ubicación Triaje_TAMIZAJE COVID  Ubicación Triaje_TRAUMA  \\\n",
      "0                                0                        0   \n",
      "1                                0                        1   \n",
      "2                                0                        0   \n",
      "3                                0                        0   \n",
      "4                                0                        0   \n",
      "\n",
      "   Ubicación Triaje_UDEA Ubicación Triaje_XPRESS Ubicación Triaje_XPress  \n",
      "0                      0                       1                       0  \n",
      "1                      0                       0                       0  \n",
      "2                      0                       0                       0  \n",
      "3                      0                       1                       0  \n",
      "4                      0                       0                       0  \n",
      "\n",
      "[5 rows x 50 columns]\n"
     ]
    }
   ],
   "source": [
    "data['Urgencia Xpress F3'] = data['Urgencia Xpress F3'].map({False:1 , True:0})\n",
    "print (data['Urgencia Xpress F3'].value_counts())\n",
    "print (data.head())"
   ]
  },
  {
   "cell_type": "markdown",
   "metadata": {},
   "source": [
    "## Grupo Poblacional "
   ]
  },
  {
   "cell_type": "code",
   "execution_count": 100,
   "metadata": {},
   "outputs": [
    {
     "name": "stdout",
     "output_type": "stream",
     "text": [
      "POBLACIÓN GENERAL              28486\n",
      "HABITANTE DE CALLE               205\n",
      "VICTIMA DE CONFLICTO ARMADO       96\n",
      "Name: Grupo Poblacional, dtype: int64 Index(['POBLACIÓN GENERAL', 'HABITANTE DE CALLE',\n",
      "       'VICTIMA DE CONFLICTO ARMADO'],\n",
      "      dtype='object')\n"
     ]
    }
   ],
   "source": [
    "frec = data['Grupo Poblacional'].value_counts()\n",
    "print (frec, frec.index)"
   ]
  },
  {
   "cell_type": "code",
   "execution_count": 101,
   "metadata": {},
   "outputs": [
    {
     "name": "stdout",
     "output_type": "stream",
     "text": [
      "   DESCRIPCION    Mes Tipo Egreso (INTERNACION)  \\\n",
      "0            1  2.634             HOSPITALIZADO   \n",
      "1            1  2.634                 NO APLICA   \n",
      "2            1  2.634                 NO APLICA   \n",
      "3            1  2.634             HOSPITALIZADO   \n",
      "4            1  2.634             HOSPITALIZADO   \n",
      "\n",
      "   Paciente Entidad Responsable Pago  Minutos (Camara - F3)  \\\n",
      "0                                 48              26.633333   \n",
      "1                                  5              65.133333   \n",
      "2                                 65              82.050000   \n",
      "3                                 48               0.000000   \n",
      "4                                  1             116.850000   \n",
      "\n",
      "   Dx Principal Tipo  Dx Principal Cod Dx Principal Cod.1 Dx Relacionado1 Cod  \\\n",
      "0                   1             I10X            I00-I99                NA00   \n",
      "1                   0             W540            V01-Y98                NA00   \n",
      "2                   0             G510            G00-G99                NA00   \n",
      "3                   0             R224            R00-R99                NA00   \n",
      "4                   0             K922            K00-K93                NA00   \n",
      "\n",
      "  Dx Relacionado2 Cod   ... Ubicación Triaje_CONSULTORIO PEDIATRIA  \\\n",
      "0                 NA00  ...                                      0   \n",
      "1                 NA00  ...                                      0   \n",
      "2                 NA00  ...                                      0   \n",
      "3                 NA00  ...                                      0   \n",
      "4                 NA00  ...                                      0   \n",
      "\n",
      "   Ubicación Triaje_SAI ADULTO  Ubicación Triaje_TAMIZAJE COVID  \\\n",
      "0                            0                                0   \n",
      "1                            0                                0   \n",
      "2                            0                                0   \n",
      "3                            0                                0   \n",
      "4                            0                                0   \n",
      "\n",
      "   Ubicación Triaje_TRAUMA  Ubicación Triaje_UDEA  Ubicación Triaje_XPRESS  \\\n",
      "0                        0                      0                        1   \n",
      "1                        1                      0                        0   \n",
      "2                        0                      0                        0   \n",
      "3                        0                      0                        1   \n",
      "4                        0                      0                        0   \n",
      "\n",
      "   Ubicación Triaje_XPress  Grupo Poblacional_HABITANTE DE CALLE  \\\n",
      "0                        0                                     0   \n",
      "1                        0                                     0   \n",
      "2                        0                                     0   \n",
      "3                        0                                     0   \n",
      "4                        0                                     0   \n",
      "\n",
      "  Grupo Poblacional_POBLACIÓN GENERAL  \\\n",
      "0                                   1   \n",
      "1                                   1   \n",
      "2                                   1   \n",
      "3                                   1   \n",
      "4                                   1   \n",
      "\n",
      "  Grupo Poblacional_VICTIMA DE CONFLICTO ARMADO  \n",
      "0                                             0  \n",
      "1                                             0  \n",
      "2                                             0  \n",
      "3                                             0  \n",
      "4                                             0  \n",
      "\n",
      "[5 rows x 52 columns]\n"
     ]
    }
   ],
   "source": [
    "data = pd.get_dummies(data, columns=['Grupo Poblacional'])\n",
    "print(data.head())"
   ]
  },
  {
   "cell_type": "markdown",
   "metadata": {},
   "source": [
    "## Pertenencia Etnica"
   ]
  },
  {
   "cell_type": "code",
   "execution_count": 102,
   "metadata": {},
   "outputs": [
    {
     "name": "stdout",
     "output_type": "stream",
     "text": [
      "OTRAS ETNIAS                                                     26991\n",
      "NEGRO (A). MULATO (A). AFROCOLOMBIANO (A) O AFRO DESCENDIENTE     1506\n",
      "RROM (GITANO)                                                      163\n",
      "INDÍGENA                                                           106\n",
      "RAIZAL (ARCHIPIELAGO DE SAN ANDRES Y PROVIDENCIA)                   21\n",
      "Name: Pertenencia Etnica, dtype: int64\n"
     ]
    }
   ],
   "source": [
    "frec = data['Pertenencia Etnica'].value_counts()\n",
    "print (frec)"
   ]
  },
  {
   "cell_type": "code",
   "execution_count": 103,
   "metadata": {},
   "outputs": [
    {
     "name": "stdout",
     "output_type": "stream",
     "text": [
      "   DESCRIPCION    Mes Tipo Egreso (INTERNACION)  \\\n",
      "0            1  2.634             HOSPITALIZADO   \n",
      "1            1  2.634                 NO APLICA   \n",
      "2            1  2.634                 NO APLICA   \n",
      "3            1  2.634             HOSPITALIZADO   \n",
      "4            1  2.634             HOSPITALIZADO   \n",
      "\n",
      "   Paciente Entidad Responsable Pago  Minutos (Camara - F3)  \\\n",
      "0                                 48              26.633333   \n",
      "1                                  5              65.133333   \n",
      "2                                 65              82.050000   \n",
      "3                                 48               0.000000   \n",
      "4                                  1             116.850000   \n",
      "\n",
      "   Dx Principal Tipo  Dx Principal Cod Dx Principal Cod.1 Dx Relacionado1 Cod  \\\n",
      "0                   1             I10X            I00-I99                NA00   \n",
      "1                   0             W540            V01-Y98                NA00   \n",
      "2                   0             G510            G00-G99                NA00   \n",
      "3                   0             R224            R00-R99                NA00   \n",
      "4                   0             K922            K00-K93                NA00   \n",
      "\n",
      "  Dx Relacionado2 Cod   ... Ubicación Triaje_XPRESS  Ubicación Triaje_XPress  \\\n",
      "0                 NA00  ...                       1                        0   \n",
      "1                 NA00  ...                       0                        0   \n",
      "2                 NA00  ...                       0                        0   \n",
      "3                 NA00  ...                       1                        0   \n",
      "4                 NA00  ...                       0                        0   \n",
      "\n",
      "   Grupo Poblacional_HABITANTE DE CALLE  Grupo Poblacional_POBLACIÓN GENERAL  \\\n",
      "0                                     0                                    1   \n",
      "1                                     0                                    1   \n",
      "2                                     0                                    1   \n",
      "3                                     0                                    1   \n",
      "4                                     0                                    1   \n",
      "\n",
      "   Grupo Poblacional_VICTIMA DE CONFLICTO ARMADO  Pertenencia Etnica_INDÍGENA  \\\n",
      "0                                              0                            0   \n",
      "1                                              0                            0   \n",
      "2                                              0                            0   \n",
      "3                                              0                            0   \n",
      "4                                              0                            0   \n",
      "\n",
      "   Pertenencia Etnica_NEGRO (A). MULATO (A). AFROCOLOMBIANO (A) O AFRO DESCENDIENTE  \\\n",
      "0                                                  0                                  \n",
      "1                                                  0                                  \n",
      "2                                                  0                                  \n",
      "3                                                  0                                  \n",
      "4                                                  0                                  \n",
      "\n",
      "   Pertenencia Etnica_OTRAS ETNIAS  \\\n",
      "0                                1   \n",
      "1                                1   \n",
      "2                                1   \n",
      "3                                1   \n",
      "4                                1   \n",
      "\n",
      "  Pertenencia Etnica_RAIZAL (ARCHIPIELAGO DE SAN ANDRES Y PROVIDENCIA)  \\\n",
      "0                                                  0                     \n",
      "1                                                  0                     \n",
      "2                                                  0                     \n",
      "3                                                  0                     \n",
      "4                                                  0                     \n",
      "\n",
      "   Pertenencia Etnica_RROM (GITANO)  \n",
      "0                                 0  \n",
      "1                                 0  \n",
      "2                                 0  \n",
      "3                                 0  \n",
      "4                                 0  \n",
      "\n",
      "[5 rows x 56 columns]\n"
     ]
    }
   ],
   "source": [
    "data = pd.get_dummies(data, columns=['Pertenencia Etnica'])\n",
    "print(data.head())"
   ]
  },
  {
   "cell_type": "markdown",
   "metadata": {},
   "source": [
    "## Alto costo"
   ]
  },
  {
   "cell_type": "code",
   "execution_count": 104,
   "metadata": {},
   "outputs": [
    {
     "name": "stdout",
     "output_type": "stream",
     "text": [
      "ZNO ALTO COSTO         27685\n",
      "CANCER                   560\n",
      "DIABETES                 191\n",
      "HIPERTENSION             153\n",
      "RENAL                    128\n",
      "TUBERCULOSIS              37\n",
      "VIH                       20\n",
      "ARTRITIS REUMATOIDE        8\n",
      "GESTANTES                  3\n",
      "HEMOFILIA                  1\n",
      "HEPATITIS C                1\n",
      "Name: ALTO COSTO, dtype: int64\n"
     ]
    }
   ],
   "source": [
    "frec = data['ALTO COSTO'].value_counts()\n",
    "print (frec)"
   ]
  },
  {
   "cell_type": "code",
   "execution_count": 105,
   "metadata": {},
   "outputs": [
    {
     "name": "stdout",
     "output_type": "stream",
     "text": [
      "   DESCRIPCION    Mes Tipo Egreso (INTERNACION)  \\\n",
      "0            1  2.634             HOSPITALIZADO   \n",
      "1            1  2.634                 NO APLICA   \n",
      "2            1  2.634                 NO APLICA   \n",
      "3            1  2.634             HOSPITALIZADO   \n",
      "4            1  2.634             HOSPITALIZADO   \n",
      "\n",
      "   Paciente Entidad Responsable Pago  Minutos (Camara - F3)  \\\n",
      "0                                 48              26.633333   \n",
      "1                                  5              65.133333   \n",
      "2                                 65              82.050000   \n",
      "3                                 48               0.000000   \n",
      "4                                  1             116.850000   \n",
      "\n",
      "   Dx Principal Tipo  Dx Principal Cod Dx Principal Cod.1 Dx Relacionado1 Cod  \\\n",
      "0                   1             I10X            I00-I99                NA00   \n",
      "1                   0             W540            V01-Y98                NA00   \n",
      "2                   0             G510            G00-G99                NA00   \n",
      "3                   0             R224            R00-R99                NA00   \n",
      "4                   0             K922            K00-K93                NA00   \n",
      "\n",
      "  Dx Relacionado2 Cod   ... ALTO COSTO_CANCER  ALTO COSTO_DIABETES  \\\n",
      "0                 NA00  ...                 0                    0   \n",
      "1                 NA00  ...                 0                    0   \n",
      "2                 NA00  ...                 0                    0   \n",
      "3                 NA00  ...                 0                    0   \n",
      "4                 NA00  ...                 0                    0   \n",
      "\n",
      "   ALTO COSTO_GESTANTES  ALTO COSTO_HEMOFILIA  ALTO COSTO_HEPATITIS C  \\\n",
      "0                     0                     0                       0   \n",
      "1                     0                     0                       0   \n",
      "2                     0                     0                       0   \n",
      "3                     0                     0                       0   \n",
      "4                     0                     0                       0   \n",
      "\n",
      "   ALTO COSTO_HIPERTENSION  ALTO COSTO_RENAL  ALTO COSTO_TUBERCULOSIS  \\\n",
      "0                        1                 0                        0   \n",
      "1                        0                 0                        0   \n",
      "2                        0                 0                        0   \n",
      "3                        0                 0                        0   \n",
      "4                        0                 0                        0   \n",
      "\n",
      "   ALTO COSTO_VIH  ALTO COSTO_ZNO ALTO COSTO  \n",
      "0               0                          0  \n",
      "1               0                          1  \n",
      "2               0                          1  \n",
      "3               0                          1  \n",
      "4               0                          1  \n",
      "\n",
      "[5 rows x 66 columns]\n"
     ]
    }
   ],
   "source": [
    "data = pd.get_dummies(data, columns=['ALTO COSTO'])\n",
    "print(data.head())"
   ]
  },
  {
   "cell_type": "markdown",
   "metadata": {},
   "source": [
    "## Variables de diagnostico\n"
   ]
  },
  {
   "cell_type": "code",
   "execution_count": 106,
   "metadata": {},
   "outputs": [
    {
     "name": "stdout",
     "output_type": "stream",
     "text": [
      "Hay categorías comunes entre las columnas\n",
      "Categorías comunes: {'R521', 'S069', 'J00X', 'E86X', 'S015', 'R101', 'S619', 'R300', 'R11X', 'S809', 'J441', 'R400', 'R34X', 'F09X', 'G934', 'G409', 'E039', 'R060', 'S068', 'M542', 'D649', 'S602', 'A419', 'L039', 'J449', 'M796', 'S519', 'H920', 'S018', 'E440', 'N939', 'K830', 'E107', 'N179', 'R51X', 'S810', 'R05X', 'N390', 'S903', 'N185', 'E119', 'I269', 'R104', 'S910', 'S701', 'S500', 'J960', 'S202', 'I499', 'S301', 'H651', 'J448', 'R17X', 'S019', 'R634', 'S501', 'S909', 'K922', 'S600', 'H659', 'J22X', 'S700', 'S609', 'S420', 'R31X', 'R509', 'A090', 'S422', 'M329', 'R040', 'T861', 'I500', 'S801', 'J353', 'H669', 'R418', 'J039', 'J050', 'N189', 'S800', 'C900', 'R55X', 'L089', 'S098', 'R520', 'S022', 'S900', 'E109', 'I10X', 'I219', 'Z940', 'S901', 'R072', 'S607', 'S099', 'S818', 'K746', 'R074', 'M545', 'B86X'}\n"
     ]
    }
   ],
   "source": [
    "# Suponiendo que 'data' es tu DataFrame\n",
    "categorias_dx_principal = data['Dx Principal Cod'].value_counts().index\n",
    "categorias_dx_relacionado1 = data['Dx Relacionado1 Cod'].value_counts().index\n",
    "categorias_dx_relacionado2 = data['Dx Relacionado2 Cod '].value_counts().index\n",
    "categorias_dx_relacionado3 = data['Dx Relacionado3 Cod'].value_counts().index\n",
    "\n",
    "# Verificar si hay categorías iguales\n",
    "categorias_comunes = set(categorias_dx_principal) & set(categorias_dx_relacionado1) & set(categorias_dx_relacionado2) & set(categorias_dx_relacionado3)\n",
    "\n",
    "if len(categorias_comunes) > 0:\n",
    "    print(\"Hay categorías comunes entre las columnas\")\n",
    "    print(\"Categorías comunes:\", categorias_comunes)\n",
    "else:\n",
    "    print(\"No hay categorías comunes entre las columnas.\")"
   ]
  },
  {
   "cell_type": "markdown",
   "metadata": {},
   "source": [
    "Como hay categorias de diagnosticos comunes entre el principal y relacionados, en este caso se usa un enfoque similar al one-hot encoding, se crea una codificación especial donde se tenga una columna por cada código de diagnóstico posible, y si un paciente tiene ese diagnóstico como principal, el valor sea 2; si es un diagnóstico relacionado, el valor sea 1; y si el paciente no tiene ese diagnóstico, el valor sea 0."
   ]
  },
  {
   "cell_type": "code",
   "execution_count": 107,
   "metadata": {},
   "outputs": [
    {
     "name": "stdout",
     "output_type": "stream",
     "text": [
      "   DESCRIPCION    Mes Tipo Egreso (INTERNACION)  \\\n",
      "0            1  2.634             HOSPITALIZADO   \n",
      "1            1  2.634                 NO APLICA   \n",
      "2            1  2.634                 NO APLICA   \n",
      "3            1  2.634             HOSPITALIZADO   \n",
      "4            1  2.634             HOSPITALIZADO   \n",
      "\n",
      "   Paciente Entidad Responsable Pago  Minutos (Camara - F3)  \\\n",
      "0                                 48              26.633333   \n",
      "1                                  5              65.133333   \n",
      "2                                 65              82.050000   \n",
      "3                                 48               0.000000   \n",
      "4                                  1             116.850000   \n",
      "\n",
      "   Dx Principal Tipo  Dx Principal Cod Dx Principal Cod.1 Dx Relacionado1 Cod  \\\n",
      "0                   1             I10X            I00-I99                NA00   \n",
      "1                   0             W540            V01-Y98                NA00   \n",
      "2                   0             G510            G00-G99                NA00   \n",
      "3                   0             R224            R00-R99                NA00   \n",
      "4                   0             K922            K00-K93                NA00   \n",
      "\n",
      "  Dx Relacionado2 Cod   ... R42X  T859  K858  G598  S799  F819  M808  M879  \\\n",
      "0                 NA00  ...    0     0     0     0     0     0     0     0   \n",
      "1                 NA00  ...    0     0     0     0     0     0     0     0   \n",
      "2                 NA00  ...    0     0     0     0     0     0     0     0   \n",
      "3                 NA00  ...    0     0     0     0     0     0     0     0   \n",
      "4                 NA00  ...    0     0     0     0     0     0     0     0   \n",
      "\n",
      "   Z001  I359  \n",
      "0     0     0  \n",
      "1     0     0  \n",
      "2     0     0  \n",
      "3     0     0  \n",
      "4     0     0  \n",
      "\n",
      "[5 rows x 2435 columns]\n"
     ]
    }
   ],
   "source": [
    "# Obtener la lista de todos los códigos de diagnóstico únicos\n",
    "codigos_diagnosticos = list(set(data['Dx Principal Cod'].unique()).union(\n",
    "                             set(data['Dx Relacionado1 Cod'].unique()),\n",
    "                             set(data['Dx Relacionado2 Cod '].unique()),  # Espacio adicional aquí\n",
    "                             set(data['Dx Relacionado3 Cod'].unique())))\n",
    "\n",
    "# Crear un DataFrame vacío para almacenar las nuevas columnas\n",
    "nuevas_columnas = pd.DataFrame(0, index=data.index, columns=codigos_diagnosticos)\n",
    "\n",
    "# Recorrer cada fila y establecer el valor apropiado para cada código de diagnóstico\n",
    "for idx, row in data.iterrows():\n",
    "    if row['Dx Principal Cod'] in codigos_diagnosticos:\n",
    "        nuevas_columnas.at[idx, row['Dx Principal Cod']] = 2\n",
    "    if row['Dx Relacionado1 Cod'] in codigos_diagnosticos:\n",
    "        nuevas_columnas.at[idx, row['Dx Relacionado1 Cod']] = 1\n",
    "    if row['Dx Relacionado2 Cod '] in codigos_diagnosticos:  # Espacio adicional aquí\n",
    "        nuevas_columnas.at[idx, row['Dx Relacionado2 Cod ']] = 1  # Espacio adicional aquí\n",
    "    if row['Dx Relacionado3 Cod'] in codigos_diagnosticos:\n",
    "        nuevas_columnas.at[idx, row['Dx Relacionado3 Cod']] = 1\n",
    "\n",
    "# Concatenar el DataFrame original con las nuevas columnas\n",
    "data = pd.concat([data, nuevas_columnas], axis=1)\n",
    "\n",
    "# Verificar el resultado\n",
    "print(data.head())"
   ]
  },
  {
   "cell_type": "code",
   "execution_count": 108,
   "metadata": {},
   "outputs": [
    {
     "name": "stdout",
     "output_type": "stream",
     "text": [
      "       DESCRIPCION    Mes Tipo Egreso (INTERNACION)  \\\n",
      "0                1  2.634             HOSPITALIZADO   \n",
      "1                1  2.634                 NO APLICA   \n",
      "2                1  2.634                 NO APLICA   \n",
      "3                1  2.634             HOSPITALIZADO   \n",
      "4                1  2.634             HOSPITALIZADO   \n",
      "...            ...    ...                       ...   \n",
      "28782            1  1.634                 NO APLICA   \n",
      "28783            1  1.634                 NO APLICA   \n",
      "28784            1  1.634                 NO APLICA   \n",
      "28785            1  1.634                 NO APLICA   \n",
      "28786            1  1.634                 NO APLICA   \n",
      "\n",
      "       Paciente Entidad Responsable Pago  Minutos (Camara - F3)  \\\n",
      "0                                     48              26.633333   \n",
      "1                                      5              65.133333   \n",
      "2                                     65              82.050000   \n",
      "3                                     48               0.000000   \n",
      "4                                      1             116.850000   \n",
      "...                                  ...                    ...   \n",
      "28782                                 53              70.583333   \n",
      "28783                                 48              42.500000   \n",
      "28784                                 65              50.133333   \n",
      "28785                                 18              40.900000   \n",
      "28786                                 48              90.266667   \n",
      "\n",
      "       Dx Principal Tipo   Paciente Edad  Paciente Sexo  \\\n",
      "0                       1           75.0              1   \n",
      "1                       0           61.0              1   \n",
      "2                       0           62.0              1   \n",
      "3                       0           78.0              0   \n",
      "4                       0           73.0              0   \n",
      "...                   ...            ...            ...   \n",
      "28782                   0           23.0              0   \n",
      "28783                   0           49.0              1   \n",
      "28784                   0           43.0              0   \n",
      "28785                   0           54.0              0   \n",
      "28786                   1           54.0              1   \n",
      "\n",
      "       Clasificacion 1 Triaje \\nEnfermeria   Modalidad Atencion  ...  R42X  \\\n",
      "0                                         4                   1  ...     0   \n",
      "1                                         3                   1  ...     0   \n",
      "2                                         3                   1  ...     0   \n",
      "3                                         0                   0  ...     0   \n",
      "4                                         3                   1  ...     0   \n",
      "...                                     ...                 ...  ...   ...   \n",
      "28782                                     3                   1  ...     0   \n",
      "28783                                     4                   1  ...     0   \n",
      "28784                                     3                   1  ...     0   \n",
      "28785                                     3                   1  ...     0   \n",
      "28786                                     3                   1  ...     0   \n",
      "\n",
      "       T859  K858  G598  S799  F819  M808  M879  Z001  I359  \n",
      "0         0     0     0     0     0     0     0     0     0  \n",
      "1         0     0     0     0     0     0     0     0     0  \n",
      "2         0     0     0     0     0     0     0     0     0  \n",
      "3         0     0     0     0     0     0     0     0     0  \n",
      "4         0     0     0     0     0     0     0     0     0  \n",
      "...     ...   ...   ...   ...   ...   ...   ...   ...   ...  \n",
      "28782     0     0     0     0     0     0     0     0     0  \n",
      "28783     0     0     0     0     0     0     0     0     0  \n",
      "28784     0     0     0     0     0     0     0     0     0  \n",
      "28785     0     0     0     0     0     0     0     0     0  \n",
      "28786     0     0     0     0     0     0     0     0     0  \n",
      "\n",
      "[28787 rows x 2430 columns]\n"
     ]
    }
   ],
   "source": [
    "# Eliminar las columnas de diagnóstico originales si es necesario\n",
    "data.drop(columns=['Dx Principal Cod.1','Dx Principal Cod', 'Dx Relacionado1 Cod', 'Dx Relacionado2 Cod ', 'Dx Relacionado3 Cod'], inplace=True)\n",
    "print(data)"
   ]
  },
  {
   "cell_type": "markdown",
   "metadata": {},
   "source": [
    "## Variable de salida"
   ]
  },
  {
   "cell_type": "code",
   "execution_count": 109,
   "metadata": {},
   "outputs": [
    {
     "name": "stdout",
     "output_type": "stream",
     "text": [
      "NO APLICA        14721\n",
      "HOSPITALIZADO    14066\n",
      "Name: Tipo Egreso (INTERNACION), dtype: int64\n"
     ]
    }
   ],
   "source": [
    "frec = data['Tipo Egreso (INTERNACION)'].value_counts()\n",
    "print (frec)"
   ]
  },
  {
   "cell_type": "code",
   "execution_count": 110,
   "metadata": {},
   "outputs": [
    {
     "name": "stdout",
     "output_type": "stream",
     "text": [
      "1    14721\n",
      "0    14066\n",
      "Name: Tipo Egreso (INTERNACION), dtype: int64\n",
      "   DESCRIPCION    Mes  Tipo Egreso (INTERNACION)  \\\n",
      "0            1  2.634                          0   \n",
      "1            1  2.634                          1   \n",
      "2            1  2.634                          1   \n",
      "3            1  2.634                          0   \n",
      "4            1  2.634                          0   \n",
      "\n",
      "   Paciente Entidad Responsable Pago  Minutos (Camara - F3)  \\\n",
      "0                                 48              26.633333   \n",
      "1                                  5              65.133333   \n",
      "2                                 65              82.050000   \n",
      "3                                 48               0.000000   \n",
      "4                                  1             116.850000   \n",
      "\n",
      "   Dx Principal Tipo   Paciente Edad  Paciente Sexo  \\\n",
      "0                   1           75.0              1   \n",
      "1                   0           61.0              1   \n",
      "2                   0           62.0              1   \n",
      "3                   0           78.0              0   \n",
      "4                   0           73.0              0   \n",
      "\n",
      "   Clasificacion 1 Triaje \\nEnfermeria   Modalidad Atencion  ...  R42X  T859  \\\n",
      "0                                     4                   1  ...     0     0   \n",
      "1                                     3                   1  ...     0     0   \n",
      "2                                     3                   1  ...     0     0   \n",
      "3                                     0                   0  ...     0     0   \n",
      "4                                     3                   1  ...     0     0   \n",
      "\n",
      "   K858  G598  S799  F819  M808  M879  Z001  I359  \n",
      "0     0     0     0     0     0     0     0     0  \n",
      "1     0     0     0     0     0     0     0     0  \n",
      "2     0     0     0     0     0     0     0     0  \n",
      "3     0     0     0     0     0     0     0     0  \n",
      "4     0     0     0     0     0     0     0     0  \n",
      "\n",
      "[5 rows x 2430 columns]\n"
     ]
    }
   ],
   "source": [
    "data['Tipo Egreso (INTERNACION)'] = data['Tipo Egreso (INTERNACION)'].map({'NO APLICA':1 , 'HOSPITALIZADO':0})\n",
    "print (data['Tipo Egreso (INTERNACION)'].value_counts())\n",
    "print (data.head())"
   ]
  },
  {
   "cell_type": "markdown",
   "metadata": {},
   "source": [
    "Ya todas las columnas son numéricas y no hay ninguna categórica"
   ]
  },
  {
   "cell_type": "code",
   "execution_count": 111,
   "metadata": {},
   "outputs": [
    {
     "name": "stdout",
     "output_type": "stream",
     "text": [
      "<class 'pandas.core.frame.DataFrame'>\n",
      "RangeIndex: 28787 entries, 0 to 28786\n",
      "Columns: 2430 entries, DESCRIPCION to I359\n",
      "dtypes: float64(5), int32(1), int64(2376), uint8(48)\n",
      "memory usage: 524.4 MB\n",
      "None\n",
      "Columnas categóricas:\n",
      "Index([], dtype='object')\n"
     ]
    }
   ],
   "source": [
    "# Mostrar información sobre el DataFrame\n",
    "print(data.info())\n",
    "\n",
    "# Filtrar columnas de tipo 'object'\n",
    "columnas_categoricas = data.select_dtypes(include=['object']).columns\n",
    "\n",
    "# Imprimir las columnas categóricas\n",
    "print(\"Columnas categóricas:\")\n",
    "print(columnas_categoricas)\n"
   ]
  }
 ],
 "metadata": {
  "kernelspec": {
   "display_name": "Python 3",
   "language": "python",
   "name": "python3"
  },
  "language_info": {
   "codemirror_mode": {
    "name": "ipython",
    "version": 3
   },
   "file_extension": ".py",
   "mimetype": "text/x-python",
   "name": "python",
   "nbconvert_exporter": "python",
   "pygments_lexer": "ipython3",
   "version": "3.11.8"
  }
 },
 "nbformat": 4,
 "nbformat_minor": 2
}
